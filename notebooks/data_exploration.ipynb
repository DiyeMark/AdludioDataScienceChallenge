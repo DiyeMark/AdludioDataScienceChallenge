{
 "cells": [
  {
   "cell_type": "markdown",
   "source": [
    "### Import Statements"
   ],
   "metadata": {
    "collapsed": false,
    "pycharm": {
     "name": "#%% md\n"
    }
   }
  },
  {
   "cell_type": "code",
   "execution_count": 1,
   "outputs": [],
   "source": [
    "import os\n",
    "import sys\n",
    "\n",
    "sys.path.append(os.path.abspath(os.path.join('..')))\n",
    "from scripts.load_data import PostgresDBUtils"
   ],
   "metadata": {
    "collapsed": false,
    "pycharm": {
     "name": "#%%\n"
    }
   }
  },
  {
   "cell_type": "code",
   "execution_count": 2,
   "outputs": [
    {
     "name": "stdout",
     "output_type": "stream",
     "text": [
      "423812 records fetched from ads_data_joined table\n"
     ]
    }
   ],
   "source": [
    "pgu = PostgresDBUtils()\n",
    "df = pgu.db_execute_fetch(table_name='ads_data_joined')"
   ],
   "metadata": {
    "collapsed": false,
    "pycharm": {
     "name": "#%%\n"
    }
   }
  },
  {
   "cell_type": "code",
   "execution_count": 5,
   "outputs": [
    {
     "data": {
      "text/plain": "  campaign_id             campaign_name   submission_date  \\\n0     gqd7ugl  VCA_FRIVOLE_2020_10_APAC  16/11/2020 23:57   \n1     gqd7ugl  VCA_FRIVOLE_2020_10_APAC  16/11/2020 23:57   \n2     gqd7ugl  VCA_FRIVOLE_2020_10_APAC  16/11/2020 23:57   \n3     gqd7ugl  VCA_FRIVOLE_2020_10_APAC  16/11/2020 23:57   \n4     gqd7ugl  VCA_FRIVOLE_2020_10_APAC  16/11/2020 23:57   \n\n                                         description  \\\n0  VCA will be running Frivole campaign in Austra...   \n1  VCA will be running Frivole campaign in Austra...   \n2  VCA will be running Frivole campaign in Austra...   \n3  VCA will be running Frivole campaign in Austra...   \n4  VCA will be running Frivole campaign in Austra...   \n\n                                 campaign_objectives kpis  \\\n0  Brand Awareness\\nProduct Awareness\\nAudience E...  CTR   \n1  Brand Awareness\\nProduct Awareness\\nAudience E...  CTR   \n2  Brand Awareness\\nProduct Awareness\\nAudience E...  CTR   \n3  Brand Awareness\\nProduct Awareness\\nAudience E...  CTR   \n4  Brand Awareness\\nProduct Awareness\\nAudience E...  CTR   \n\n                                          placements  start_date    end_date  \\\n0  320x480 (Fullscreen mobile / interstitial)\\n30...  19/11/2020  31/12/2020   \n1  320x480 (Fullscreen mobile / interstitial)\\n30...  19/11/2020  31/12/2020   \n2  320x480 (Fullscreen mobile / interstitial)\\n30...  19/11/2020  31/12/2020   \n3  320x480 (Fullscreen mobile / interstitial)\\n30...  19/11/2020  31/12/2020   \n4  320x480 (Fullscreen mobile / interstitial)\\n30...  19/11/2020  31/12/2020   \n\n  serving_locations  ... platform_os device_type                     browser  \\\n0         Australia  ...           6      Mobile                      Chrome   \n1         Australia  ...           6      Mobile  Mobile Safari UI/WKWebView   \n2         Australia  ...           6      Mobile                      Chrome   \n3         Australia  ...           6      Mobile                      Chrome   \n4         Australia  ...           6      Mobile                      Chrome   \n\n  labels  text  colors  video_data eng_type  direction adunit_size  \n0   None  None    None        None     None       None        None  \n1   None  None    None        None     None       None        None  \n2   None  None    None        None     None       None        None  \n3   None  None    None        None     None       None        None  \n4   None  None    None        None     None       None        None  \n\n[5 rows x 40 columns]",
      "text/html": "<div>\n<style scoped>\n    .dataframe tbody tr th:only-of-type {\n        vertical-align: middle;\n    }\n\n    .dataframe tbody tr th {\n        vertical-align: top;\n    }\n\n    .dataframe thead th {\n        text-align: right;\n    }\n</style>\n<table border=\"1\" class=\"dataframe\">\n  <thead>\n    <tr style=\"text-align: right;\">\n      <th></th>\n      <th>campaign_id</th>\n      <th>campaign_name</th>\n      <th>submission_date</th>\n      <th>description</th>\n      <th>campaign_objectives</th>\n      <th>kpis</th>\n      <th>placements</th>\n      <th>start_date</th>\n      <th>end_date</th>\n      <th>serving_locations</th>\n      <th>...</th>\n      <th>platform_os</th>\n      <th>device_type</th>\n      <th>browser</th>\n      <th>labels</th>\n      <th>text</th>\n      <th>colors</th>\n      <th>video_data</th>\n      <th>eng_type</th>\n      <th>direction</th>\n      <th>adunit_size</th>\n    </tr>\n  </thead>\n  <tbody>\n    <tr>\n      <th>0</th>\n      <td>gqd7ugl</td>\n      <td>VCA_FRIVOLE_2020_10_APAC</td>\n      <td>16/11/2020 23:57</td>\n      <td>VCA will be running Frivole campaign in Austra...</td>\n      <td>Brand Awareness\\nProduct Awareness\\nAudience E...</td>\n      <td>CTR</td>\n      <td>320x480 (Fullscreen mobile / interstitial)\\n30...</td>\n      <td>19/11/2020</td>\n      <td>31/12/2020</td>\n      <td>Australia</td>\n      <td>...</td>\n      <td>6</td>\n      <td>Mobile</td>\n      <td>Chrome</td>\n      <td>None</td>\n      <td>None</td>\n      <td>None</td>\n      <td>None</td>\n      <td>None</td>\n      <td>None</td>\n      <td>None</td>\n    </tr>\n    <tr>\n      <th>1</th>\n      <td>gqd7ugl</td>\n      <td>VCA_FRIVOLE_2020_10_APAC</td>\n      <td>16/11/2020 23:57</td>\n      <td>VCA will be running Frivole campaign in Austra...</td>\n      <td>Brand Awareness\\nProduct Awareness\\nAudience E...</td>\n      <td>CTR</td>\n      <td>320x480 (Fullscreen mobile / interstitial)\\n30...</td>\n      <td>19/11/2020</td>\n      <td>31/12/2020</td>\n      <td>Australia</td>\n      <td>...</td>\n      <td>6</td>\n      <td>Mobile</td>\n      <td>Mobile Safari UI/WKWebView</td>\n      <td>None</td>\n      <td>None</td>\n      <td>None</td>\n      <td>None</td>\n      <td>None</td>\n      <td>None</td>\n      <td>None</td>\n    </tr>\n    <tr>\n      <th>2</th>\n      <td>gqd7ugl</td>\n      <td>VCA_FRIVOLE_2020_10_APAC</td>\n      <td>16/11/2020 23:57</td>\n      <td>VCA will be running Frivole campaign in Austra...</td>\n      <td>Brand Awareness\\nProduct Awareness\\nAudience E...</td>\n      <td>CTR</td>\n      <td>320x480 (Fullscreen mobile / interstitial)\\n30...</td>\n      <td>19/11/2020</td>\n      <td>31/12/2020</td>\n      <td>Australia</td>\n      <td>...</td>\n      <td>6</td>\n      <td>Mobile</td>\n      <td>Chrome</td>\n      <td>None</td>\n      <td>None</td>\n      <td>None</td>\n      <td>None</td>\n      <td>None</td>\n      <td>None</td>\n      <td>None</td>\n    </tr>\n    <tr>\n      <th>3</th>\n      <td>gqd7ugl</td>\n      <td>VCA_FRIVOLE_2020_10_APAC</td>\n      <td>16/11/2020 23:57</td>\n      <td>VCA will be running Frivole campaign in Austra...</td>\n      <td>Brand Awareness\\nProduct Awareness\\nAudience E...</td>\n      <td>CTR</td>\n      <td>320x480 (Fullscreen mobile / interstitial)\\n30...</td>\n      <td>19/11/2020</td>\n      <td>31/12/2020</td>\n      <td>Australia</td>\n      <td>...</td>\n      <td>6</td>\n      <td>Mobile</td>\n      <td>Chrome</td>\n      <td>None</td>\n      <td>None</td>\n      <td>None</td>\n      <td>None</td>\n      <td>None</td>\n      <td>None</td>\n      <td>None</td>\n    </tr>\n    <tr>\n      <th>4</th>\n      <td>gqd7ugl</td>\n      <td>VCA_FRIVOLE_2020_10_APAC</td>\n      <td>16/11/2020 23:57</td>\n      <td>VCA will be running Frivole campaign in Austra...</td>\n      <td>Brand Awareness\\nProduct Awareness\\nAudience E...</td>\n      <td>CTR</td>\n      <td>320x480 (Fullscreen mobile / interstitial)\\n30...</td>\n      <td>19/11/2020</td>\n      <td>31/12/2020</td>\n      <td>Australia</td>\n      <td>...</td>\n      <td>6</td>\n      <td>Mobile</td>\n      <td>Chrome</td>\n      <td>None</td>\n      <td>None</td>\n      <td>None</td>\n      <td>None</td>\n      <td>None</td>\n      <td>None</td>\n      <td>None</td>\n    </tr>\n  </tbody>\n</table>\n<p>5 rows × 40 columns</p>\n</div>"
     },
     "execution_count": 5,
     "metadata": {},
     "output_type": "execute_result"
    }
   ],
   "source": [
    "df.head()"
   ],
   "metadata": {
    "collapsed": false,
    "pycharm": {
     "name": "#%%\n"
    }
   }
  },
  {
   "cell_type": "code",
   "execution_count": null,
   "outputs": [],
   "source": [],
   "metadata": {
    "collapsed": false,
    "pycharm": {
     "name": "#%%\n"
    }
   }
  }
 ],
 "metadata": {
  "kernelspec": {
   "display_name": "Python 3",
   "language": "python",
   "name": "python3"
  },
  "language_info": {
   "codemirror_mode": {
    "name": "ipython",
    "version": 2
   },
   "file_extension": ".py",
   "mimetype": "text/x-python",
   "name": "python",
   "nbconvert_exporter": "python",
   "pygments_lexer": "ipython2",
   "version": "2.7.6"
  }
 },
 "nbformat": 4,
 "nbformat_minor": 0
}