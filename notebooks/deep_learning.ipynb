{
 "cells": [
  {
   "cell_type": "markdown",
   "source": [
    "### Import Statements"
   ],
   "metadata": {
    "collapsed": false,
    "pycharm": {
     "name": "#%% md\n"
    }
   }
  },
  {
   "cell_type": "code",
   "execution_count": 32,
   "metadata": {
    "collapsed": true,
    "pycharm": {
     "name": "#%%\n"
    }
   },
   "outputs": [],
   "source": [
    "import os\n",
    "import sys\n",
    "import matplotlib.pyplot as plt\n",
    "import numpy as np\n",
    "import pandas as pd\n",
    "from numpy import array\n",
    "import datetime\n",
    "import time\n",
    "import calendar\n",
    "import tensorflow as tf\n",
    "from tensorflow import keras\n",
    "from tensorflow.keras import layers\n",
    "from keras.models import Sequential\n",
    "from keras.layers import Dense\n",
    "from keras.layers import LSTM\n",
    "from keras.layers import Dropout\n",
    "from sklearn.model_selection import train_test_split\n",
    "\n",
    "sys.path.append(os.path.abspath(os.path.join('..')))\n",
    "from scripts.helper_functions import data_normalize"
   ]
  },
  {
   "cell_type": "code",
   "execution_count": 2,
   "outputs": [],
   "source": [
    "df = pd.read_csv('../data/clean_data.csv')"
   ],
   "metadata": {
    "collapsed": false,
    "pycharm": {
     "name": "#%%\n"
    }
   }
  },
  {
   "cell_type": "code",
   "execution_count": 3,
   "outputs": [
    {
     "data": {
      "text/plain": "  campaign_id                                      campaign_name  \\\n0     12dc55z         Fox 9-1-1 S4 Premiere | Sensory Video | AV   \n1     22yeess  Lionsgate Spiral Movie | Sensory Engagement | ...   \n2     2z6pk1p              VCA_FRIVOLE WAVE 2_2021_SG - CPE Algo   \n3     3ej4hd8   Ad Sequence - Sensory | CPE | P1B7VZ3 - CPE Algo   \n4     5qtwg2a  Lexus East | Philadelphia | Sensory Video |  C...   \n\n    submission_date                                        description  \\\n0  19/12/2019 17:38  Hey @alicia below are the details for the upco...   \n1  21/04/2021 16:54  Hello Design Team - Below is the info for the ...   \n2  15/12/2020 23:57  Storyboard Stage : \\r\\nThe storyboards are cur...   \n3  22/04/2020 11:25  Hey Kentaro - below is the latest live campaig...   \n4  05/10/2020 12:50  Hey team see details for the campaign below: \\...   \n\n                                 campaign_objectives  \\\n0                                    Brand Awareness   \n1               Brand Awareness\\nAudience Engagement   \n2  Brand Awareness\\nProduct Awareness\\nMessage Re...   \n3  Brand Awareness\\nProduct Awareness\\nConsiderat...   \n4                                    Brand Awareness   \n\n                        kpis  \\\n0            Engagement Rate   \n1  VTR\\nCTR\\nEngagement Rate   \n2            Engagement Rate   \n3       CTR\\nEngagement Rate   \n4       CTR\\nEngagement Rate   \n\n                                          placements  start_date    end_date  \\\n0         320x480 (Fullscreen mobile / interstitial)  13/01/2020  20/12/2019   \n1         320x480 (Fullscreen mobile / interstitial)  30/04/2021  16/05/2021   \n2  320x480 (Fullscreen mobile / interstitial)\\n30...  11/01/2021  31/01/2021   \n3         320x480 (Fullscreen mobile / interstitial)  04/05/2020  31/08/2020   \n4         320x480 (Fullscreen mobile / interstitial)  12/10/2020  31/12/2020   \n\n  serving_locations  ...  volume_agreed  gross_cost  agency_fee  percentage  \\\n0                US  ...           0.00        0.00  Percentage        15.0   \n1       US National  ...      151515.15    50000.00  Percentage         0.0   \n2         Singapore  ...       40336.00    25411.68  Percentage        15.0   \n3               USA  ...     5963333.33  1789000.00  Percentage         0.0   \n4               USA  ...           0.00        0.00  Percentage        15.0   \n\n     net_cost  click-through-event first_dropped  impression  engagement_rate  \\\n0        0.00                  660          1196        8144         0.146857   \n1    50000.00                   98           567        9335         0.060739   \n2    21599.93                   99           904        8997         0.100478   \n3  1789000.00                    0             6          15         0.400000   \n4        0.00                 1116          1369        7515         0.182169   \n\n   click_through_rate  \n0            0.551839  \n1            0.172840  \n2            0.109513  \n3            0.000000  \n4            0.815194  \n\n[5 rows x 24 columns]",
      "text/html": "<div>\n<style scoped>\n    .dataframe tbody tr th:only-of-type {\n        vertical-align: middle;\n    }\n\n    .dataframe tbody tr th {\n        vertical-align: top;\n    }\n\n    .dataframe thead th {\n        text-align: right;\n    }\n</style>\n<table border=\"1\" class=\"dataframe\">\n  <thead>\n    <tr style=\"text-align: right;\">\n      <th></th>\n      <th>campaign_id</th>\n      <th>campaign_name</th>\n      <th>submission_date</th>\n      <th>description</th>\n      <th>campaign_objectives</th>\n      <th>kpis</th>\n      <th>placements</th>\n      <th>start_date</th>\n      <th>end_date</th>\n      <th>serving_locations</th>\n      <th>...</th>\n      <th>volume_agreed</th>\n      <th>gross_cost</th>\n      <th>agency_fee</th>\n      <th>percentage</th>\n      <th>net_cost</th>\n      <th>click-through-event</th>\n      <th>first_dropped</th>\n      <th>impression</th>\n      <th>engagement_rate</th>\n      <th>click_through_rate</th>\n    </tr>\n  </thead>\n  <tbody>\n    <tr>\n      <th>0</th>\n      <td>12dc55z</td>\n      <td>Fox 9-1-1 S4 Premiere | Sensory Video | AV</td>\n      <td>19/12/2019 17:38</td>\n      <td>Hey @alicia below are the details for the upco...</td>\n      <td>Brand Awareness</td>\n      <td>Engagement Rate</td>\n      <td>320x480 (Fullscreen mobile / interstitial)</td>\n      <td>13/01/2020</td>\n      <td>20/12/2019</td>\n      <td>US</td>\n      <td>...</td>\n      <td>0.00</td>\n      <td>0.00</td>\n      <td>Percentage</td>\n      <td>15.0</td>\n      <td>0.00</td>\n      <td>660</td>\n      <td>1196</td>\n      <td>8144</td>\n      <td>0.146857</td>\n      <td>0.551839</td>\n    </tr>\n    <tr>\n      <th>1</th>\n      <td>22yeess</td>\n      <td>Lionsgate Spiral Movie | Sensory Engagement | ...</td>\n      <td>21/04/2021 16:54</td>\n      <td>Hello Design Team - Below is the info for the ...</td>\n      <td>Brand Awareness\\nAudience Engagement</td>\n      <td>VTR\\nCTR\\nEngagement Rate</td>\n      <td>320x480 (Fullscreen mobile / interstitial)</td>\n      <td>30/04/2021</td>\n      <td>16/05/2021</td>\n      <td>US National</td>\n      <td>...</td>\n      <td>151515.15</td>\n      <td>50000.00</td>\n      <td>Percentage</td>\n      <td>0.0</td>\n      <td>50000.00</td>\n      <td>98</td>\n      <td>567</td>\n      <td>9335</td>\n      <td>0.060739</td>\n      <td>0.172840</td>\n    </tr>\n    <tr>\n      <th>2</th>\n      <td>2z6pk1p</td>\n      <td>VCA_FRIVOLE WAVE 2_2021_SG - CPE Algo</td>\n      <td>15/12/2020 23:57</td>\n      <td>Storyboard Stage : \\r\\nThe storyboards are cur...</td>\n      <td>Brand Awareness\\nProduct Awareness\\nMessage Re...</td>\n      <td>Engagement Rate</td>\n      <td>320x480 (Fullscreen mobile / interstitial)\\n30...</td>\n      <td>11/01/2021</td>\n      <td>31/01/2021</td>\n      <td>Singapore</td>\n      <td>...</td>\n      <td>40336.00</td>\n      <td>25411.68</td>\n      <td>Percentage</td>\n      <td>15.0</td>\n      <td>21599.93</td>\n      <td>99</td>\n      <td>904</td>\n      <td>8997</td>\n      <td>0.100478</td>\n      <td>0.109513</td>\n    </tr>\n    <tr>\n      <th>3</th>\n      <td>3ej4hd8</td>\n      <td>Ad Sequence - Sensory | CPE | P1B7VZ3 - CPE Algo</td>\n      <td>22/04/2020 11:25</td>\n      <td>Hey Kentaro - below is the latest live campaig...</td>\n      <td>Brand Awareness\\nProduct Awareness\\nConsiderat...</td>\n      <td>CTR\\nEngagement Rate</td>\n      <td>320x480 (Fullscreen mobile / interstitial)</td>\n      <td>04/05/2020</td>\n      <td>31/08/2020</td>\n      <td>USA</td>\n      <td>...</td>\n      <td>5963333.33</td>\n      <td>1789000.00</td>\n      <td>Percentage</td>\n      <td>0.0</td>\n      <td>1789000.00</td>\n      <td>0</td>\n      <td>6</td>\n      <td>15</td>\n      <td>0.400000</td>\n      <td>0.000000</td>\n    </tr>\n    <tr>\n      <th>4</th>\n      <td>5qtwg2a</td>\n      <td>Lexus East | Philadelphia | Sensory Video |  C...</td>\n      <td>05/10/2020 12:50</td>\n      <td>Hey team see details for the campaign below: \\...</td>\n      <td>Brand Awareness</td>\n      <td>CTR\\nEngagement Rate</td>\n      <td>320x480 (Fullscreen mobile / interstitial)</td>\n      <td>12/10/2020</td>\n      <td>31/12/2020</td>\n      <td>USA</td>\n      <td>...</td>\n      <td>0.00</td>\n      <td>0.00</td>\n      <td>Percentage</td>\n      <td>15.0</td>\n      <td>0.00</td>\n      <td>1116</td>\n      <td>1369</td>\n      <td>7515</td>\n      <td>0.182169</td>\n      <td>0.815194</td>\n    </tr>\n  </tbody>\n</table>\n<p>5 rows × 24 columns</p>\n</div>"
     },
     "execution_count": 3,
     "metadata": {},
     "output_type": "execute_result"
    }
   ],
   "source": [
    "df.head()"
   ],
   "metadata": {
    "collapsed": false,
    "pycharm": {
     "name": "#%%\n"
    }
   }
  },
  {
   "cell_type": "code",
   "execution_count": 4,
   "outputs": [],
   "source": [
    "# convert submission_date to year, month, day, hour and minute\n",
    "df['submission_date'] = pd.to_datetime(df['submission_date'])\n",
    "df['submission_date_year'] = df['submission_date'].dt.year\n",
    "df['submission_date_month'] = df['submission_date'].dt.month\n",
    "df['submission_date_date'] = df['submission_date'].dt.day\n",
    "df['submission_date_hour'] = df['submission_date'].dt.hour\n",
    "df['submission_date_minute'] = df['submission_date'].dt.minute\n",
    "df = df.drop(['submission_date'], axis=1)"
   ],
   "metadata": {
    "collapsed": false,
    "pycharm": {
     "name": "#%%\n"
    }
   }
  },
  {
   "cell_type": "code",
   "execution_count": 5,
   "outputs": [],
   "source": [
    "# convert start_date to year, month, day, hour and minute\n",
    "df['start_date'] = pd.to_datetime(df['start_date'], infer_datetime_format=True)\n",
    "df['start_date_year'] = df['start_date'].dt.year\n",
    "df['start_date_month'] = df['start_date'].dt.month\n",
    "df['start_date_date'] = df['start_date'].dt.day\n",
    "df = df.drop(['start_date'], axis=1)"
   ],
   "metadata": {
    "collapsed": false,
    "pycharm": {
     "name": "#%%\n"
    }
   }
  },
  {
   "cell_type": "code",
   "execution_count": 6,
   "outputs": [],
   "source": [
    "# convert end_date to year, month, day, hour and minute\n",
    "df['end_date'] = pd.to_datetime(df['end_date'], infer_datetime_format=True)\n",
    "df['end_date_year'] = df['end_date'].dt.year\n",
    "df['end_date_month'] = df['end_date'].dt.month\n",
    "df['end_date_date'] = df['end_date'].dt.day\n",
    "df = df.drop(['end_date'], axis=1)"
   ],
   "metadata": {
    "collapsed": false,
    "pycharm": {
     "name": "#%%\n"
    }
   }
  },
  {
   "cell_type": "code",
   "execution_count": 7,
   "outputs": [],
   "source": [
    "data = df.drop(['campaign_id', 'campaign_name', 'description', 'campaign_objectives', 'kpis', 'placements', 'serving_locations', 'cost_centre', 'currency', 'agency_fee', 'percentage'], axis=1)"
   ],
   "metadata": {
    "collapsed": false,
    "pycharm": {
     "name": "#%%\n"
    }
   }
  },
  {
   "cell_type": "code",
   "execution_count": 8,
   "outputs": [
    {
     "data": {
      "text/plain": "    black_white_audience_list_included  buy_rate  volume_agreed  gross_cost  \\\n0                                    0      0.30           0.00        0.00   \n1                                    1      0.33      151515.15    50000.00   \n2                                    0      0.63       40336.00    25411.68   \n3                                    1      0.30     5963333.33  1789000.00   \n4                                    1      0.40           0.00        0.00   \n5                                    1      0.30     5963333.33  1789000.00   \n6                                    1      0.40           0.00        0.00   \n7                                    1      0.40      531179.00   212471.60   \n8                                    1      0.35      214285.71    75000.00   \n9                                    1      0.49       64826.00    31764.74   \n10                                   1      0.40           0.00        0.00   \n11                                   1      0.35      214285.71    75000.00   \n12                                   1      0.49       55222.00    27058.78   \n13                                   1      0.49       55222.00    27058.78   \n14                                   1      0.35      214285.71    75000.00   \n15                                   1      0.27      196078.00    52941.06   \n16                                   1      0.75       29333.33    22000.00   \n17                                   1      0.35      214285.71    75000.00   \n18                                   1      0.43       91929.00    39529.47   \n19                                   1      0.35      214285.71    75000.00   \n20                                   1      0.35      214285.71    75000.00   \n21                                   1      0.28      242185.00    67811.80   \n22                                   1      0.75       29333.33    22000.00   \n23                                   1      0.45      222222.00    99999.90   \n24                                   1      0.40      531179.00   212471.60   \n25                                   0      0.63       40336.00    25411.68   \n26                                   1     13.00       10000.00   130000.00   \n27                                   1      0.30      166666.67    50000.00   \n28                                   1     13.00           0.00        0.00   \n29                                   1      0.50           0.00        0.00   \n30                                   1      0.40      531179.00   212471.60   \n31                                   1      0.35      214285.71    75000.00   \n32                                   1      0.40      531179.00   212471.60   \n33                                   1      0.33      151515.15    50000.00   \n34                                   1      0.28      242185.00    67811.80   \n35                                   1     13.00       10000.00   130000.00   \n36                                   1      0.28      242185.00    67811.80   \n37                                   1      3.90       36199.00   141176.10   \n38                                   0      0.63       40336.00    25411.68   \n39                                   1      0.43       91929.00    39529.47   \n40                                   0      0.30           0.00        0.00   \n41                                   1      0.40           0.00        0.00   \n42                                   1      0.45      315111.11   141800.00   \n43                                   1      0.35      214285.71    75000.00   \n44                                   1      0.33      151515.15    50000.00   \n45                                   1     15.00        6274.00    94110.00   \n46                                   1     28.00        7392.00   206976.00   \n47                                   1      0.40      531179.00   212471.60   \n48                                   1      0.33      500000.00   165000.00   \n49                                   1      0.33      151515.15    50000.00   \n50                                   1      0.40           0.00        0.00   \n51                                   1     13.00           0.00        0.00   \n\n      net_cost  click-through-event  first_dropped  impression  \\\n0         0.00                  660           1196        8144   \n1     50000.00                   98            567        9335   \n2     21599.93                   99            904        8997   \n3   1789000.00                    0              6          15   \n4         0.00                 1116           1369        7515   \n5   1789000.00                    0              0          58   \n6         0.00                  850           1112        8038   \n7    212471.60                  851           1256        7893   \n8     75000.00                  198           1667        8126   \n9     27000.03                   48            348        9604   \n10        0.00                  775           1066        8159   \n11    75000.00                  171           1771        8055   \n12    22999.96                    2              3         399   \n13    22999.96                    2              3         399   \n14    75000.00                  213            693        9094   \n15    44999.90                    1              3         393   \n16    19800.00                    0              0         108   \n17    75000.00                  179           1240        8580   \n18    33600.05                  265           1189        8546   \n19    75000.00                  165            610        9223   \n20    75000.00                  246            799        8955   \n21    57640.03                    0              0          14   \n22    19800.00                    0              0          18   \n23    99999.90                  295            847        8858   \n24   212471.60                  769           1478        7753   \n25    21599.93                  118           1246        8636   \n26   110500.00                  380           1296        8324   \n27    50000.00                    0              0          90   \n28        0.00                    0              0          21   \n29        0.00                    0              0          50   \n30   212471.60                  775           1119        8106   \n31    75000.00                  186            633        9181   \n32   212471.60                  783           1073        8144   \n33    50000.00                  172            748        9080   \n34    57640.03                    0              0          19   \n35   110500.00                  310           1269        8421   \n36    57640.03                    0              0          23   \n37   119999.68                 1481           1542        6977   \n38    21599.93                  119            655        9226   \n39    33600.05                  171           1780        8035   \n40        0.00                  666           1240        8094   \n41        0.00                  727           1641        7632   \n42   141800.00                   15             12         581   \n43    75000.00                  154           1052        8791   \n44    50000.00                    0            301        9699   \n45    79993.50                   80            142        9775   \n46   175929.60                  821           1776        7403   \n47   212471.60                  749           1678        7573   \n48   165000.00                  422              0        9578   \n49    50000.00                    1            207        9792   \n50        0.00                  971           1475        7554   \n51        0.00                  227            465        9308   \n\n    engagement_rate  click_through_rate  ...  submission_date_month  \\\n0          0.146857            0.551839  ...                     12   \n1          0.060739            0.172840  ...                      4   \n2          0.100478            0.109513  ...                     12   \n3          0.400000            0.000000  ...                      4   \n4          0.182169            0.815194  ...                      5   \n5          0.000000                 NaN  ...                      4   \n6          0.138343            0.764388  ...                      5   \n7          0.159128            0.677548  ...                      2   \n8          0.205144            0.118776  ...                     12   \n9          0.036235            0.137931  ...                     12   \n10         0.130653            0.727017  ...                      5   \n11         0.219863            0.096556  ...                     12   \n12         0.007519            0.666667  ...                     10   \n13         0.007519            0.666667  ...                     10   \n14         0.076204            0.307359  ...                     12   \n15         0.007634            0.333333  ...                      7   \n16         0.000000                 NaN  ...                     11   \n17         0.144522            0.144355  ...                     12   \n18         0.139129            0.222876  ...                      2   \n19         0.066139            0.270492  ...                     12   \n20         0.089224            0.307885  ...                     12   \n21         0.000000                 NaN  ...                      6   \n22         0.000000                 NaN  ...                     11   \n23         0.095620            0.348288  ...                      2   \n24         0.190636            0.520298  ...                      2   \n25         0.144280            0.094703  ...                     12   \n26         0.155694            0.293210  ...                      4   \n27         0.000000                 NaN  ...                      9   \n28         0.000000                 NaN  ...                      4   \n29         0.000000                 NaN  ...                      8   \n30         0.138046            0.692583  ...                      2   \n31         0.068947            0.293839  ...                     12   \n32         0.131753            0.729730  ...                      2   \n33         0.082379            0.229947  ...                      4   \n34         0.000000                 NaN  ...                      6   \n35         0.150695            0.244287  ...                      4   \n36         0.000000                 NaN  ...                      6   \n37         0.221012            0.960441  ...                     11   \n38         0.070995            0.181679  ...                     12   \n39         0.221531            0.096067  ...                      5   \n40         0.153200            0.537097  ...                     12   \n41         0.215016            0.443023  ...                      5   \n42         0.020654            1.250000  ...                      8   \n43         0.119668            0.146388  ...                     12   \n44         0.031034            0.000000  ...                      4   \n45         0.014527            0.563380  ...                      5   \n46         0.239903            0.462275  ...                      6   \n47         0.221577            0.446365  ...                      2   \n48         0.000000                 inf  ...                     11   \n49         0.021140            0.004831  ...                      4   \n50         0.195261            0.658305  ...                      5   \n51         0.049957            0.488172  ...                      1   \n\n    submission_date_date  submission_date_hour  submission_date_minute  \\\n0                     19                    17                      38   \n1                     21                    16                      54   \n2                     15                    23                      57   \n3                     22                    11                      25   \n4                     10                    12                      50   \n5                     22                    11                      25   \n6                     10                    12                      50   \n7                     14                    14                      48   \n8                      5                    18                      54   \n9                     22                     6                      24   \n10                    10                    12                      50   \n11                     5                    18                      54   \n12                    11                     5                      52   \n13                    11                    22                      49   \n14                     5                    18                      54   \n15                    10                    21                      50   \n16                    16                    23                      57   \n17                     5                    18                      54   \n18                    16                    21                      37   \n19                     5                    18                      54   \n20                     5                    18                      54   \n21                    18                     3                      18   \n22                    16                    23                      57   \n23                    26                    16                       4   \n24                    14                    14                      48   \n25                    15                    23                      57   \n26                    30                     9                      52   \n27                    23                    22                       0   \n28                    22                    12                      27   \n29                    20                    16                      43   \n30                    14                    14                      48   \n31                     5                    18                      54   \n32                    14                    14                      48   \n33                    21                    16                      54   \n34                    18                     3                      18   \n35                    30                     9                      52   \n36                    18                     3                      18   \n37                    19                     3                      45   \n38                    15                    23                      57   \n39                    20                     0                      52   \n40                    19                    17                      38   \n41                    10                    12                      50   \n42                    31                    10                      17   \n43                     5                    18                      54   \n44                    21                    16                      54   \n45                    28                     6                      24   \n46                    12                    22                       8   \n47                    14                    14                      48   \n48                     5                    16                      38   \n49                    21                    16                      54   \n50                    10                    12                      50   \n51                     3                    12                      57   \n\n    start_date_year  start_date_month  start_date_date  end_date_year  \\\n0              2020                 1               13           2019   \n1              2021                 4               30           2021   \n2              2021                 1               11           2021   \n3              2020                 5                4           2020   \n4              2020                10               12           2020   \n5              2020                 5                4           2020   \n6              2020                10               12           2020   \n7              2020                 3                1           2020   \n8              2021                 5               22           2021   \n9              2021                 1                8           2021   \n10             2020                10               12           2020   \n11             2021                 5               22           2021   \n12             2020                12                1           2020   \n13             2020                12                1           2020   \n14             2021                 5               22           2021   \n15             2020                12               14           2020   \n16             2020                11               19           2020   \n17             2021                 5               22           2021   \n18             2021                 3                1           2021   \n19             2021                 5               22           2021   \n20             2021                 5               22           2021   \n21             2021                 7               12           2021   \n22             2020                11               19           2020   \n23             2020                 4                1           2020   \n24             2020                 3                1           2020   \n25             2021                 1               11           2021   \n26             2021                 5               14           2021   \n27             2020                10                1           2020   \n28             2020                 5                4           2020   \n29             2019                 9               16           2019   \n30             2020                 3                1           2020   \n31             2021                 5               22           2021   \n32             2020                 3                1           2020   \n33             2021                 4               30           2021   \n34             2021                 7               12           2021   \n35             2021                 5               14           2021   \n36             2021                 7               12           2021   \n37             2020                12                3           2020   \n38             2021                 1               11           2021   \n39             2021                 6               16           2021   \n40             2020                 1               13           2019   \n41             2020                10               12           2020   \n42             2020                10                1           2020   \n43             2021                 5               22           2021   \n44             2021                 4               30           2021   \n45             2021                 6               21           2021   \n46             2020                12               14           2021   \n47             2020                 3                1           2020   \n48             2021                 5               17           2021   \n49             2021                 4               30           2021   \n50             2020                10               12           2020   \n51             2021                 3               15           2021   \n\n    end_date_month  end_date_date  \n0               12             20  \n1                5             16  \n2                1             31  \n3                8             31  \n4               12             31  \n5                8             31  \n6               12             31  \n7               11             30  \n8                6             20  \n9                2             18  \n10              12             31  \n11               6             20  \n12              12             31  \n13              12             31  \n14               6             20  \n15              12             16  \n16              12             31  \n17               6             20  \n18               3             31  \n19               6             20  \n20               6             20  \n21               9              8  \n22              12             31  \n23              10             31  \n24              11             30  \n25               1             31  \n26               6              6  \n27              12             31  \n28               5             17  \n29              10             14  \n30              11             30  \n31               6             20  \n32              11             30  \n33               5             16  \n34               9              8  \n35               6              6  \n36               9              8  \n37              12             31  \n38               1             31  \n39               7             13  \n40              12             20  \n41              12             31  \n42              12             31  \n43               6             20  \n44               5             16  \n45               7             31  \n46               1             10  \n47              11             30  \n48              12             31  \n49               5             16  \n50              12             31  \n51               4             11  \n\n[52 rows x 21 columns]",
      "text/html": "<div>\n<style scoped>\n    .dataframe tbody tr th:only-of-type {\n        vertical-align: middle;\n    }\n\n    .dataframe tbody tr th {\n        vertical-align: top;\n    }\n\n    .dataframe thead th {\n        text-align: right;\n    }\n</style>\n<table border=\"1\" class=\"dataframe\">\n  <thead>\n    <tr style=\"text-align: right;\">\n      <th></th>\n      <th>black_white_audience_list_included</th>\n      <th>buy_rate</th>\n      <th>volume_agreed</th>\n      <th>gross_cost</th>\n      <th>net_cost</th>\n      <th>click-through-event</th>\n      <th>first_dropped</th>\n      <th>impression</th>\n      <th>engagement_rate</th>\n      <th>click_through_rate</th>\n      <th>...</th>\n      <th>submission_date_month</th>\n      <th>submission_date_date</th>\n      <th>submission_date_hour</th>\n      <th>submission_date_minute</th>\n      <th>start_date_year</th>\n      <th>start_date_month</th>\n      <th>start_date_date</th>\n      <th>end_date_year</th>\n      <th>end_date_month</th>\n      <th>end_date_date</th>\n    </tr>\n  </thead>\n  <tbody>\n    <tr>\n      <th>0</th>\n      <td>0</td>\n      <td>0.30</td>\n      <td>0.00</td>\n      <td>0.00</td>\n      <td>0.00</td>\n      <td>660</td>\n      <td>1196</td>\n      <td>8144</td>\n      <td>0.146857</td>\n      <td>0.551839</td>\n      <td>...</td>\n      <td>12</td>\n      <td>19</td>\n      <td>17</td>\n      <td>38</td>\n      <td>2020</td>\n      <td>1</td>\n      <td>13</td>\n      <td>2019</td>\n      <td>12</td>\n      <td>20</td>\n    </tr>\n    <tr>\n      <th>1</th>\n      <td>1</td>\n      <td>0.33</td>\n      <td>151515.15</td>\n      <td>50000.00</td>\n      <td>50000.00</td>\n      <td>98</td>\n      <td>567</td>\n      <td>9335</td>\n      <td>0.060739</td>\n      <td>0.172840</td>\n      <td>...</td>\n      <td>4</td>\n      <td>21</td>\n      <td>16</td>\n      <td>54</td>\n      <td>2021</td>\n      <td>4</td>\n      <td>30</td>\n      <td>2021</td>\n      <td>5</td>\n      <td>16</td>\n    </tr>\n    <tr>\n      <th>2</th>\n      <td>0</td>\n      <td>0.63</td>\n      <td>40336.00</td>\n      <td>25411.68</td>\n      <td>21599.93</td>\n      <td>99</td>\n      <td>904</td>\n      <td>8997</td>\n      <td>0.100478</td>\n      <td>0.109513</td>\n      <td>...</td>\n      <td>12</td>\n      <td>15</td>\n      <td>23</td>\n      <td>57</td>\n      <td>2021</td>\n      <td>1</td>\n      <td>11</td>\n      <td>2021</td>\n      <td>1</td>\n      <td>31</td>\n    </tr>\n    <tr>\n      <th>3</th>\n      <td>1</td>\n      <td>0.30</td>\n      <td>5963333.33</td>\n      <td>1789000.00</td>\n      <td>1789000.00</td>\n      <td>0</td>\n      <td>6</td>\n      <td>15</td>\n      <td>0.400000</td>\n      <td>0.000000</td>\n      <td>...</td>\n      <td>4</td>\n      <td>22</td>\n      <td>11</td>\n      <td>25</td>\n      <td>2020</td>\n      <td>5</td>\n      <td>4</td>\n      <td>2020</td>\n      <td>8</td>\n      <td>31</td>\n    </tr>\n    <tr>\n      <th>4</th>\n      <td>1</td>\n      <td>0.40</td>\n      <td>0.00</td>\n      <td>0.00</td>\n      <td>0.00</td>\n      <td>1116</td>\n      <td>1369</td>\n      <td>7515</td>\n      <td>0.182169</td>\n      <td>0.815194</td>\n      <td>...</td>\n      <td>5</td>\n      <td>10</td>\n      <td>12</td>\n      <td>50</td>\n      <td>2020</td>\n      <td>10</td>\n      <td>12</td>\n      <td>2020</td>\n      <td>12</td>\n      <td>31</td>\n    </tr>\n    <tr>\n      <th>5</th>\n      <td>1</td>\n      <td>0.30</td>\n      <td>5963333.33</td>\n      <td>1789000.00</td>\n      <td>1789000.00</td>\n      <td>0</td>\n      <td>0</td>\n      <td>58</td>\n      <td>0.000000</td>\n      <td>NaN</td>\n      <td>...</td>\n      <td>4</td>\n      <td>22</td>\n      <td>11</td>\n      <td>25</td>\n      <td>2020</td>\n      <td>5</td>\n      <td>4</td>\n      <td>2020</td>\n      <td>8</td>\n      <td>31</td>\n    </tr>\n    <tr>\n      <th>6</th>\n      <td>1</td>\n      <td>0.40</td>\n      <td>0.00</td>\n      <td>0.00</td>\n      <td>0.00</td>\n      <td>850</td>\n      <td>1112</td>\n      <td>8038</td>\n      <td>0.138343</td>\n      <td>0.764388</td>\n      <td>...</td>\n      <td>5</td>\n      <td>10</td>\n      <td>12</td>\n      <td>50</td>\n      <td>2020</td>\n      <td>10</td>\n      <td>12</td>\n      <td>2020</td>\n      <td>12</td>\n      <td>31</td>\n    </tr>\n    <tr>\n      <th>7</th>\n      <td>1</td>\n      <td>0.40</td>\n      <td>531179.00</td>\n      <td>212471.60</td>\n      <td>212471.60</td>\n      <td>851</td>\n      <td>1256</td>\n      <td>7893</td>\n      <td>0.159128</td>\n      <td>0.677548</td>\n      <td>...</td>\n      <td>2</td>\n      <td>14</td>\n      <td>14</td>\n      <td>48</td>\n      <td>2020</td>\n      <td>3</td>\n      <td>1</td>\n      <td>2020</td>\n      <td>11</td>\n      <td>30</td>\n    </tr>\n    <tr>\n      <th>8</th>\n      <td>1</td>\n      <td>0.35</td>\n      <td>214285.71</td>\n      <td>75000.00</td>\n      <td>75000.00</td>\n      <td>198</td>\n      <td>1667</td>\n      <td>8126</td>\n      <td>0.205144</td>\n      <td>0.118776</td>\n      <td>...</td>\n      <td>12</td>\n      <td>5</td>\n      <td>18</td>\n      <td>54</td>\n      <td>2021</td>\n      <td>5</td>\n      <td>22</td>\n      <td>2021</td>\n      <td>6</td>\n      <td>20</td>\n    </tr>\n    <tr>\n      <th>9</th>\n      <td>1</td>\n      <td>0.49</td>\n      <td>64826.00</td>\n      <td>31764.74</td>\n      <td>27000.03</td>\n      <td>48</td>\n      <td>348</td>\n      <td>9604</td>\n      <td>0.036235</td>\n      <td>0.137931</td>\n      <td>...</td>\n      <td>12</td>\n      <td>22</td>\n      <td>6</td>\n      <td>24</td>\n      <td>2021</td>\n      <td>1</td>\n      <td>8</td>\n      <td>2021</td>\n      <td>2</td>\n      <td>18</td>\n    </tr>\n    <tr>\n      <th>10</th>\n      <td>1</td>\n      <td>0.40</td>\n      <td>0.00</td>\n      <td>0.00</td>\n      <td>0.00</td>\n      <td>775</td>\n      <td>1066</td>\n      <td>8159</td>\n      <td>0.130653</td>\n      <td>0.727017</td>\n      <td>...</td>\n      <td>5</td>\n      <td>10</td>\n      <td>12</td>\n      <td>50</td>\n      <td>2020</td>\n      <td>10</td>\n      <td>12</td>\n      <td>2020</td>\n      <td>12</td>\n      <td>31</td>\n    </tr>\n    <tr>\n      <th>11</th>\n      <td>1</td>\n      <td>0.35</td>\n      <td>214285.71</td>\n      <td>75000.00</td>\n      <td>75000.00</td>\n      <td>171</td>\n      <td>1771</td>\n      <td>8055</td>\n      <td>0.219863</td>\n      <td>0.096556</td>\n      <td>...</td>\n      <td>12</td>\n      <td>5</td>\n      <td>18</td>\n      <td>54</td>\n      <td>2021</td>\n      <td>5</td>\n      <td>22</td>\n      <td>2021</td>\n      <td>6</td>\n      <td>20</td>\n    </tr>\n    <tr>\n      <th>12</th>\n      <td>1</td>\n      <td>0.49</td>\n      <td>55222.00</td>\n      <td>27058.78</td>\n      <td>22999.96</td>\n      <td>2</td>\n      <td>3</td>\n      <td>399</td>\n      <td>0.007519</td>\n      <td>0.666667</td>\n      <td>...</td>\n      <td>10</td>\n      <td>11</td>\n      <td>5</td>\n      <td>52</td>\n      <td>2020</td>\n      <td>12</td>\n      <td>1</td>\n      <td>2020</td>\n      <td>12</td>\n      <td>31</td>\n    </tr>\n    <tr>\n      <th>13</th>\n      <td>1</td>\n      <td>0.49</td>\n      <td>55222.00</td>\n      <td>27058.78</td>\n      <td>22999.96</td>\n      <td>2</td>\n      <td>3</td>\n      <td>399</td>\n      <td>0.007519</td>\n      <td>0.666667</td>\n      <td>...</td>\n      <td>10</td>\n      <td>11</td>\n      <td>22</td>\n      <td>49</td>\n      <td>2020</td>\n      <td>12</td>\n      <td>1</td>\n      <td>2020</td>\n      <td>12</td>\n      <td>31</td>\n    </tr>\n    <tr>\n      <th>14</th>\n      <td>1</td>\n      <td>0.35</td>\n      <td>214285.71</td>\n      <td>75000.00</td>\n      <td>75000.00</td>\n      <td>213</td>\n      <td>693</td>\n      <td>9094</td>\n      <td>0.076204</td>\n      <td>0.307359</td>\n      <td>...</td>\n      <td>12</td>\n      <td>5</td>\n      <td>18</td>\n      <td>54</td>\n      <td>2021</td>\n      <td>5</td>\n      <td>22</td>\n      <td>2021</td>\n      <td>6</td>\n      <td>20</td>\n    </tr>\n    <tr>\n      <th>15</th>\n      <td>1</td>\n      <td>0.27</td>\n      <td>196078.00</td>\n      <td>52941.06</td>\n      <td>44999.90</td>\n      <td>1</td>\n      <td>3</td>\n      <td>393</td>\n      <td>0.007634</td>\n      <td>0.333333</td>\n      <td>...</td>\n      <td>7</td>\n      <td>10</td>\n      <td>21</td>\n      <td>50</td>\n      <td>2020</td>\n      <td>12</td>\n      <td>14</td>\n      <td>2020</td>\n      <td>12</td>\n      <td>16</td>\n    </tr>\n    <tr>\n      <th>16</th>\n      <td>1</td>\n      <td>0.75</td>\n      <td>29333.33</td>\n      <td>22000.00</td>\n      <td>19800.00</td>\n      <td>0</td>\n      <td>0</td>\n      <td>108</td>\n      <td>0.000000</td>\n      <td>NaN</td>\n      <td>...</td>\n      <td>11</td>\n      <td>16</td>\n      <td>23</td>\n      <td>57</td>\n      <td>2020</td>\n      <td>11</td>\n      <td>19</td>\n      <td>2020</td>\n      <td>12</td>\n      <td>31</td>\n    </tr>\n    <tr>\n      <th>17</th>\n      <td>1</td>\n      <td>0.35</td>\n      <td>214285.71</td>\n      <td>75000.00</td>\n      <td>75000.00</td>\n      <td>179</td>\n      <td>1240</td>\n      <td>8580</td>\n      <td>0.144522</td>\n      <td>0.144355</td>\n      <td>...</td>\n      <td>12</td>\n      <td>5</td>\n      <td>18</td>\n      <td>54</td>\n      <td>2021</td>\n      <td>5</td>\n      <td>22</td>\n      <td>2021</td>\n      <td>6</td>\n      <td>20</td>\n    </tr>\n    <tr>\n      <th>18</th>\n      <td>1</td>\n      <td>0.43</td>\n      <td>91929.00</td>\n      <td>39529.47</td>\n      <td>33600.05</td>\n      <td>265</td>\n      <td>1189</td>\n      <td>8546</td>\n      <td>0.139129</td>\n      <td>0.222876</td>\n      <td>...</td>\n      <td>2</td>\n      <td>16</td>\n      <td>21</td>\n      <td>37</td>\n      <td>2021</td>\n      <td>3</td>\n      <td>1</td>\n      <td>2021</td>\n      <td>3</td>\n      <td>31</td>\n    </tr>\n    <tr>\n      <th>19</th>\n      <td>1</td>\n      <td>0.35</td>\n      <td>214285.71</td>\n      <td>75000.00</td>\n      <td>75000.00</td>\n      <td>165</td>\n      <td>610</td>\n      <td>9223</td>\n      <td>0.066139</td>\n      <td>0.270492</td>\n      <td>...</td>\n      <td>12</td>\n      <td>5</td>\n      <td>18</td>\n      <td>54</td>\n      <td>2021</td>\n      <td>5</td>\n      <td>22</td>\n      <td>2021</td>\n      <td>6</td>\n      <td>20</td>\n    </tr>\n    <tr>\n      <th>20</th>\n      <td>1</td>\n      <td>0.35</td>\n      <td>214285.71</td>\n      <td>75000.00</td>\n      <td>75000.00</td>\n      <td>246</td>\n      <td>799</td>\n      <td>8955</td>\n      <td>0.089224</td>\n      <td>0.307885</td>\n      <td>...</td>\n      <td>12</td>\n      <td>5</td>\n      <td>18</td>\n      <td>54</td>\n      <td>2021</td>\n      <td>5</td>\n      <td>22</td>\n      <td>2021</td>\n      <td>6</td>\n      <td>20</td>\n    </tr>\n    <tr>\n      <th>21</th>\n      <td>1</td>\n      <td>0.28</td>\n      <td>242185.00</td>\n      <td>67811.80</td>\n      <td>57640.03</td>\n      <td>0</td>\n      <td>0</td>\n      <td>14</td>\n      <td>0.000000</td>\n      <td>NaN</td>\n      <td>...</td>\n      <td>6</td>\n      <td>18</td>\n      <td>3</td>\n      <td>18</td>\n      <td>2021</td>\n      <td>7</td>\n      <td>12</td>\n      <td>2021</td>\n      <td>9</td>\n      <td>8</td>\n    </tr>\n    <tr>\n      <th>22</th>\n      <td>1</td>\n      <td>0.75</td>\n      <td>29333.33</td>\n      <td>22000.00</td>\n      <td>19800.00</td>\n      <td>0</td>\n      <td>0</td>\n      <td>18</td>\n      <td>0.000000</td>\n      <td>NaN</td>\n      <td>...</td>\n      <td>11</td>\n      <td>16</td>\n      <td>23</td>\n      <td>57</td>\n      <td>2020</td>\n      <td>11</td>\n      <td>19</td>\n      <td>2020</td>\n      <td>12</td>\n      <td>31</td>\n    </tr>\n    <tr>\n      <th>23</th>\n      <td>1</td>\n      <td>0.45</td>\n      <td>222222.00</td>\n      <td>99999.90</td>\n      <td>99999.90</td>\n      <td>295</td>\n      <td>847</td>\n      <td>8858</td>\n      <td>0.095620</td>\n      <td>0.348288</td>\n      <td>...</td>\n      <td>2</td>\n      <td>26</td>\n      <td>16</td>\n      <td>4</td>\n      <td>2020</td>\n      <td>4</td>\n      <td>1</td>\n      <td>2020</td>\n      <td>10</td>\n      <td>31</td>\n    </tr>\n    <tr>\n      <th>24</th>\n      <td>1</td>\n      <td>0.40</td>\n      <td>531179.00</td>\n      <td>212471.60</td>\n      <td>212471.60</td>\n      <td>769</td>\n      <td>1478</td>\n      <td>7753</td>\n      <td>0.190636</td>\n      <td>0.520298</td>\n      <td>...</td>\n      <td>2</td>\n      <td>14</td>\n      <td>14</td>\n      <td>48</td>\n      <td>2020</td>\n      <td>3</td>\n      <td>1</td>\n      <td>2020</td>\n      <td>11</td>\n      <td>30</td>\n    </tr>\n    <tr>\n      <th>25</th>\n      <td>0</td>\n      <td>0.63</td>\n      <td>40336.00</td>\n      <td>25411.68</td>\n      <td>21599.93</td>\n      <td>118</td>\n      <td>1246</td>\n      <td>8636</td>\n      <td>0.144280</td>\n      <td>0.094703</td>\n      <td>...</td>\n      <td>12</td>\n      <td>15</td>\n      <td>23</td>\n      <td>57</td>\n      <td>2021</td>\n      <td>1</td>\n      <td>11</td>\n      <td>2021</td>\n      <td>1</td>\n      <td>31</td>\n    </tr>\n    <tr>\n      <th>26</th>\n      <td>1</td>\n      <td>13.00</td>\n      <td>10000.00</td>\n      <td>130000.00</td>\n      <td>110500.00</td>\n      <td>380</td>\n      <td>1296</td>\n      <td>8324</td>\n      <td>0.155694</td>\n      <td>0.293210</td>\n      <td>...</td>\n      <td>4</td>\n      <td>30</td>\n      <td>9</td>\n      <td>52</td>\n      <td>2021</td>\n      <td>5</td>\n      <td>14</td>\n      <td>2021</td>\n      <td>6</td>\n      <td>6</td>\n    </tr>\n    <tr>\n      <th>27</th>\n      <td>1</td>\n      <td>0.30</td>\n      <td>166666.67</td>\n      <td>50000.00</td>\n      <td>50000.00</td>\n      <td>0</td>\n      <td>0</td>\n      <td>90</td>\n      <td>0.000000</td>\n      <td>NaN</td>\n      <td>...</td>\n      <td>9</td>\n      <td>23</td>\n      <td>22</td>\n      <td>0</td>\n      <td>2020</td>\n      <td>10</td>\n      <td>1</td>\n      <td>2020</td>\n      <td>12</td>\n      <td>31</td>\n    </tr>\n    <tr>\n      <th>28</th>\n      <td>1</td>\n      <td>13.00</td>\n      <td>0.00</td>\n      <td>0.00</td>\n      <td>0.00</td>\n      <td>0</td>\n      <td>0</td>\n      <td>21</td>\n      <td>0.000000</td>\n      <td>NaN</td>\n      <td>...</td>\n      <td>4</td>\n      <td>22</td>\n      <td>12</td>\n      <td>27</td>\n      <td>2020</td>\n      <td>5</td>\n      <td>4</td>\n      <td>2020</td>\n      <td>5</td>\n      <td>17</td>\n    </tr>\n    <tr>\n      <th>29</th>\n      <td>1</td>\n      <td>0.50</td>\n      <td>0.00</td>\n      <td>0.00</td>\n      <td>0.00</td>\n      <td>0</td>\n      <td>0</td>\n      <td>50</td>\n      <td>0.000000</td>\n      <td>NaN</td>\n      <td>...</td>\n      <td>8</td>\n      <td>20</td>\n      <td>16</td>\n      <td>43</td>\n      <td>2019</td>\n      <td>9</td>\n      <td>16</td>\n      <td>2019</td>\n      <td>10</td>\n      <td>14</td>\n    </tr>\n    <tr>\n      <th>30</th>\n      <td>1</td>\n      <td>0.40</td>\n      <td>531179.00</td>\n      <td>212471.60</td>\n      <td>212471.60</td>\n      <td>775</td>\n      <td>1119</td>\n      <td>8106</td>\n      <td>0.138046</td>\n      <td>0.692583</td>\n      <td>...</td>\n      <td>2</td>\n      <td>14</td>\n      <td>14</td>\n      <td>48</td>\n      <td>2020</td>\n      <td>3</td>\n      <td>1</td>\n      <td>2020</td>\n      <td>11</td>\n      <td>30</td>\n    </tr>\n    <tr>\n      <th>31</th>\n      <td>1</td>\n      <td>0.35</td>\n      <td>214285.71</td>\n      <td>75000.00</td>\n      <td>75000.00</td>\n      <td>186</td>\n      <td>633</td>\n      <td>9181</td>\n      <td>0.068947</td>\n      <td>0.293839</td>\n      <td>...</td>\n      <td>12</td>\n      <td>5</td>\n      <td>18</td>\n      <td>54</td>\n      <td>2021</td>\n      <td>5</td>\n      <td>22</td>\n      <td>2021</td>\n      <td>6</td>\n      <td>20</td>\n    </tr>\n    <tr>\n      <th>32</th>\n      <td>1</td>\n      <td>0.40</td>\n      <td>531179.00</td>\n      <td>212471.60</td>\n      <td>212471.60</td>\n      <td>783</td>\n      <td>1073</td>\n      <td>8144</td>\n      <td>0.131753</td>\n      <td>0.729730</td>\n      <td>...</td>\n      <td>2</td>\n      <td>14</td>\n      <td>14</td>\n      <td>48</td>\n      <td>2020</td>\n      <td>3</td>\n      <td>1</td>\n      <td>2020</td>\n      <td>11</td>\n      <td>30</td>\n    </tr>\n    <tr>\n      <th>33</th>\n      <td>1</td>\n      <td>0.33</td>\n      <td>151515.15</td>\n      <td>50000.00</td>\n      <td>50000.00</td>\n      <td>172</td>\n      <td>748</td>\n      <td>9080</td>\n      <td>0.082379</td>\n      <td>0.229947</td>\n      <td>...</td>\n      <td>4</td>\n      <td>21</td>\n      <td>16</td>\n      <td>54</td>\n      <td>2021</td>\n      <td>4</td>\n      <td>30</td>\n      <td>2021</td>\n      <td>5</td>\n      <td>16</td>\n    </tr>\n    <tr>\n      <th>34</th>\n      <td>1</td>\n      <td>0.28</td>\n      <td>242185.00</td>\n      <td>67811.80</td>\n      <td>57640.03</td>\n      <td>0</td>\n      <td>0</td>\n      <td>19</td>\n      <td>0.000000</td>\n      <td>NaN</td>\n      <td>...</td>\n      <td>6</td>\n      <td>18</td>\n      <td>3</td>\n      <td>18</td>\n      <td>2021</td>\n      <td>7</td>\n      <td>12</td>\n      <td>2021</td>\n      <td>9</td>\n      <td>8</td>\n    </tr>\n    <tr>\n      <th>35</th>\n      <td>1</td>\n      <td>13.00</td>\n      <td>10000.00</td>\n      <td>130000.00</td>\n      <td>110500.00</td>\n      <td>310</td>\n      <td>1269</td>\n      <td>8421</td>\n      <td>0.150695</td>\n      <td>0.244287</td>\n      <td>...</td>\n      <td>4</td>\n      <td>30</td>\n      <td>9</td>\n      <td>52</td>\n      <td>2021</td>\n      <td>5</td>\n      <td>14</td>\n      <td>2021</td>\n      <td>6</td>\n      <td>6</td>\n    </tr>\n    <tr>\n      <th>36</th>\n      <td>1</td>\n      <td>0.28</td>\n      <td>242185.00</td>\n      <td>67811.80</td>\n      <td>57640.03</td>\n      <td>0</td>\n      <td>0</td>\n      <td>23</td>\n      <td>0.000000</td>\n      <td>NaN</td>\n      <td>...</td>\n      <td>6</td>\n      <td>18</td>\n      <td>3</td>\n      <td>18</td>\n      <td>2021</td>\n      <td>7</td>\n      <td>12</td>\n      <td>2021</td>\n      <td>9</td>\n      <td>8</td>\n    </tr>\n    <tr>\n      <th>37</th>\n      <td>1</td>\n      <td>3.90</td>\n      <td>36199.00</td>\n      <td>141176.10</td>\n      <td>119999.68</td>\n      <td>1481</td>\n      <td>1542</td>\n      <td>6977</td>\n      <td>0.221012</td>\n      <td>0.960441</td>\n      <td>...</td>\n      <td>11</td>\n      <td>19</td>\n      <td>3</td>\n      <td>45</td>\n      <td>2020</td>\n      <td>12</td>\n      <td>3</td>\n      <td>2020</td>\n      <td>12</td>\n      <td>31</td>\n    </tr>\n    <tr>\n      <th>38</th>\n      <td>0</td>\n      <td>0.63</td>\n      <td>40336.00</td>\n      <td>25411.68</td>\n      <td>21599.93</td>\n      <td>119</td>\n      <td>655</td>\n      <td>9226</td>\n      <td>0.070995</td>\n      <td>0.181679</td>\n      <td>...</td>\n      <td>12</td>\n      <td>15</td>\n      <td>23</td>\n      <td>57</td>\n      <td>2021</td>\n      <td>1</td>\n      <td>11</td>\n      <td>2021</td>\n      <td>1</td>\n      <td>31</td>\n    </tr>\n    <tr>\n      <th>39</th>\n      <td>1</td>\n      <td>0.43</td>\n      <td>91929.00</td>\n      <td>39529.47</td>\n      <td>33600.05</td>\n      <td>171</td>\n      <td>1780</td>\n      <td>8035</td>\n      <td>0.221531</td>\n      <td>0.096067</td>\n      <td>...</td>\n      <td>5</td>\n      <td>20</td>\n      <td>0</td>\n      <td>52</td>\n      <td>2021</td>\n      <td>6</td>\n      <td>16</td>\n      <td>2021</td>\n      <td>7</td>\n      <td>13</td>\n    </tr>\n    <tr>\n      <th>40</th>\n      <td>0</td>\n      <td>0.30</td>\n      <td>0.00</td>\n      <td>0.00</td>\n      <td>0.00</td>\n      <td>666</td>\n      <td>1240</td>\n      <td>8094</td>\n      <td>0.153200</td>\n      <td>0.537097</td>\n      <td>...</td>\n      <td>12</td>\n      <td>19</td>\n      <td>17</td>\n      <td>38</td>\n      <td>2020</td>\n      <td>1</td>\n      <td>13</td>\n      <td>2019</td>\n      <td>12</td>\n      <td>20</td>\n    </tr>\n    <tr>\n      <th>41</th>\n      <td>1</td>\n      <td>0.40</td>\n      <td>0.00</td>\n      <td>0.00</td>\n      <td>0.00</td>\n      <td>727</td>\n      <td>1641</td>\n      <td>7632</td>\n      <td>0.215016</td>\n      <td>0.443023</td>\n      <td>...</td>\n      <td>5</td>\n      <td>10</td>\n      <td>12</td>\n      <td>50</td>\n      <td>2020</td>\n      <td>10</td>\n      <td>12</td>\n      <td>2020</td>\n      <td>12</td>\n      <td>31</td>\n    </tr>\n    <tr>\n      <th>42</th>\n      <td>1</td>\n      <td>0.45</td>\n      <td>315111.11</td>\n      <td>141800.00</td>\n      <td>141800.00</td>\n      <td>15</td>\n      <td>12</td>\n      <td>581</td>\n      <td>0.020654</td>\n      <td>1.250000</td>\n      <td>...</td>\n      <td>8</td>\n      <td>31</td>\n      <td>10</td>\n      <td>17</td>\n      <td>2020</td>\n      <td>10</td>\n      <td>1</td>\n      <td>2020</td>\n      <td>12</td>\n      <td>31</td>\n    </tr>\n    <tr>\n      <th>43</th>\n      <td>1</td>\n      <td>0.35</td>\n      <td>214285.71</td>\n      <td>75000.00</td>\n      <td>75000.00</td>\n      <td>154</td>\n      <td>1052</td>\n      <td>8791</td>\n      <td>0.119668</td>\n      <td>0.146388</td>\n      <td>...</td>\n      <td>12</td>\n      <td>5</td>\n      <td>18</td>\n      <td>54</td>\n      <td>2021</td>\n      <td>5</td>\n      <td>22</td>\n      <td>2021</td>\n      <td>6</td>\n      <td>20</td>\n    </tr>\n    <tr>\n      <th>44</th>\n      <td>1</td>\n      <td>0.33</td>\n      <td>151515.15</td>\n      <td>50000.00</td>\n      <td>50000.00</td>\n      <td>0</td>\n      <td>301</td>\n      <td>9699</td>\n      <td>0.031034</td>\n      <td>0.000000</td>\n      <td>...</td>\n      <td>4</td>\n      <td>21</td>\n      <td>16</td>\n      <td>54</td>\n      <td>2021</td>\n      <td>4</td>\n      <td>30</td>\n      <td>2021</td>\n      <td>5</td>\n      <td>16</td>\n    </tr>\n    <tr>\n      <th>45</th>\n      <td>1</td>\n      <td>15.00</td>\n      <td>6274.00</td>\n      <td>94110.00</td>\n      <td>79993.50</td>\n      <td>80</td>\n      <td>142</td>\n      <td>9775</td>\n      <td>0.014527</td>\n      <td>0.563380</td>\n      <td>...</td>\n      <td>5</td>\n      <td>28</td>\n      <td>6</td>\n      <td>24</td>\n      <td>2021</td>\n      <td>6</td>\n      <td>21</td>\n      <td>2021</td>\n      <td>7</td>\n      <td>31</td>\n    </tr>\n    <tr>\n      <th>46</th>\n      <td>1</td>\n      <td>28.00</td>\n      <td>7392.00</td>\n      <td>206976.00</td>\n      <td>175929.60</td>\n      <td>821</td>\n      <td>1776</td>\n      <td>7403</td>\n      <td>0.239903</td>\n      <td>0.462275</td>\n      <td>...</td>\n      <td>6</td>\n      <td>12</td>\n      <td>22</td>\n      <td>8</td>\n      <td>2020</td>\n      <td>12</td>\n      <td>14</td>\n      <td>2021</td>\n      <td>1</td>\n      <td>10</td>\n    </tr>\n    <tr>\n      <th>47</th>\n      <td>1</td>\n      <td>0.40</td>\n      <td>531179.00</td>\n      <td>212471.60</td>\n      <td>212471.60</td>\n      <td>749</td>\n      <td>1678</td>\n      <td>7573</td>\n      <td>0.221577</td>\n      <td>0.446365</td>\n      <td>...</td>\n      <td>2</td>\n      <td>14</td>\n      <td>14</td>\n      <td>48</td>\n      <td>2020</td>\n      <td>3</td>\n      <td>1</td>\n      <td>2020</td>\n      <td>11</td>\n      <td>30</td>\n    </tr>\n    <tr>\n      <th>48</th>\n      <td>1</td>\n      <td>0.33</td>\n      <td>500000.00</td>\n      <td>165000.00</td>\n      <td>165000.00</td>\n      <td>422</td>\n      <td>0</td>\n      <td>9578</td>\n      <td>0.000000</td>\n      <td>inf</td>\n      <td>...</td>\n      <td>11</td>\n      <td>5</td>\n      <td>16</td>\n      <td>38</td>\n      <td>2021</td>\n      <td>5</td>\n      <td>17</td>\n      <td>2021</td>\n      <td>12</td>\n      <td>31</td>\n    </tr>\n    <tr>\n      <th>49</th>\n      <td>1</td>\n      <td>0.33</td>\n      <td>151515.15</td>\n      <td>50000.00</td>\n      <td>50000.00</td>\n      <td>1</td>\n      <td>207</td>\n      <td>9792</td>\n      <td>0.021140</td>\n      <td>0.004831</td>\n      <td>...</td>\n      <td>4</td>\n      <td>21</td>\n      <td>16</td>\n      <td>54</td>\n      <td>2021</td>\n      <td>4</td>\n      <td>30</td>\n      <td>2021</td>\n      <td>5</td>\n      <td>16</td>\n    </tr>\n    <tr>\n      <th>50</th>\n      <td>1</td>\n      <td>0.40</td>\n      <td>0.00</td>\n      <td>0.00</td>\n      <td>0.00</td>\n      <td>971</td>\n      <td>1475</td>\n      <td>7554</td>\n      <td>0.195261</td>\n      <td>0.658305</td>\n      <td>...</td>\n      <td>5</td>\n      <td>10</td>\n      <td>12</td>\n      <td>50</td>\n      <td>2020</td>\n      <td>10</td>\n      <td>12</td>\n      <td>2020</td>\n      <td>12</td>\n      <td>31</td>\n    </tr>\n    <tr>\n      <th>51</th>\n      <td>1</td>\n      <td>13.00</td>\n      <td>0.00</td>\n      <td>0.00</td>\n      <td>0.00</td>\n      <td>227</td>\n      <td>465</td>\n      <td>9308</td>\n      <td>0.049957</td>\n      <td>0.488172</td>\n      <td>...</td>\n      <td>1</td>\n      <td>3</td>\n      <td>12</td>\n      <td>57</td>\n      <td>2021</td>\n      <td>3</td>\n      <td>15</td>\n      <td>2021</td>\n      <td>4</td>\n      <td>11</td>\n    </tr>\n  </tbody>\n</table>\n<p>52 rows × 21 columns</p>\n</div>"
     },
     "execution_count": 8,
     "metadata": {},
     "output_type": "execute_result"
    }
   ],
   "source": [
    "data"
   ],
   "metadata": {
    "collapsed": false,
    "pycharm": {
     "name": "#%%\n"
    }
   }
  },
  {
   "cell_type": "code",
   "execution_count": 9,
   "outputs": [],
   "source": [
    "data.dropna(inplace=True)\n",
    "data = data.drop([48])"
   ],
   "metadata": {
    "collapsed": false,
    "pycharm": {
     "name": "#%%\n"
    }
   }
  },
  {
   "cell_type": "code",
   "execution_count": 10,
   "outputs": [
    {
     "data": {
      "text/plain": "    black_white_audience_list_included  buy_rate  volume_agreed  gross_cost  \\\n0                                    0      0.30           0.00        0.00   \n1                                    1      0.33      151515.15    50000.00   \n2                                    0      0.63       40336.00    25411.68   \n3                                    1      0.30     5963333.33  1789000.00   \n4                                    1      0.40           0.00        0.00   \n6                                    1      0.40           0.00        0.00   \n7                                    1      0.40      531179.00   212471.60   \n8                                    1      0.35      214285.71    75000.00   \n9                                    1      0.49       64826.00    31764.74   \n10                                   1      0.40           0.00        0.00   \n11                                   1      0.35      214285.71    75000.00   \n12                                   1      0.49       55222.00    27058.78   \n13                                   1      0.49       55222.00    27058.78   \n14                                   1      0.35      214285.71    75000.00   \n15                                   1      0.27      196078.00    52941.06   \n17                                   1      0.35      214285.71    75000.00   \n18                                   1      0.43       91929.00    39529.47   \n19                                   1      0.35      214285.71    75000.00   \n20                                   1      0.35      214285.71    75000.00   \n23                                   1      0.45      222222.00    99999.90   \n24                                   1      0.40      531179.00   212471.60   \n25                                   0      0.63       40336.00    25411.68   \n26                                   1     13.00       10000.00   130000.00   \n30                                   1      0.40      531179.00   212471.60   \n31                                   1      0.35      214285.71    75000.00   \n32                                   1      0.40      531179.00   212471.60   \n33                                   1      0.33      151515.15    50000.00   \n35                                   1     13.00       10000.00   130000.00   \n37                                   1      3.90       36199.00   141176.10   \n38                                   0      0.63       40336.00    25411.68   \n39                                   1      0.43       91929.00    39529.47   \n40                                   0      0.30           0.00        0.00   \n41                                   1      0.40           0.00        0.00   \n42                                   1      0.45      315111.11   141800.00   \n43                                   1      0.35      214285.71    75000.00   \n44                                   1      0.33      151515.15    50000.00   \n45                                   1     15.00        6274.00    94110.00   \n46                                   1     28.00        7392.00   206976.00   \n47                                   1      0.40      531179.00   212471.60   \n49                                   1      0.33      151515.15    50000.00   \n50                                   1      0.40           0.00        0.00   \n51                                   1     13.00           0.00        0.00   \n\n      net_cost  click-through-event  first_dropped  impression  \\\n0         0.00                  660           1196        8144   \n1     50000.00                   98            567        9335   \n2     21599.93                   99            904        8997   \n3   1789000.00                    0              6          15   \n4         0.00                 1116           1369        7515   \n6         0.00                  850           1112        8038   \n7    212471.60                  851           1256        7893   \n8     75000.00                  198           1667        8126   \n9     27000.03                   48            348        9604   \n10        0.00                  775           1066        8159   \n11    75000.00                  171           1771        8055   \n12    22999.96                    2              3         399   \n13    22999.96                    2              3         399   \n14    75000.00                  213            693        9094   \n15    44999.90                    1              3         393   \n17    75000.00                  179           1240        8580   \n18    33600.05                  265           1189        8546   \n19    75000.00                  165            610        9223   \n20    75000.00                  246            799        8955   \n23    99999.90                  295            847        8858   \n24   212471.60                  769           1478        7753   \n25    21599.93                  118           1246        8636   \n26   110500.00                  380           1296        8324   \n30   212471.60                  775           1119        8106   \n31    75000.00                  186            633        9181   \n32   212471.60                  783           1073        8144   \n33    50000.00                  172            748        9080   \n35   110500.00                  310           1269        8421   \n37   119999.68                 1481           1542        6977   \n38    21599.93                  119            655        9226   \n39    33600.05                  171           1780        8035   \n40        0.00                  666           1240        8094   \n41        0.00                  727           1641        7632   \n42   141800.00                   15             12         581   \n43    75000.00                  154           1052        8791   \n44    50000.00                    0            301        9699   \n45    79993.50                   80            142        9775   \n46   175929.60                  821           1776        7403   \n47   212471.60                  749           1678        7573   \n49    50000.00                    1            207        9792   \n50        0.00                  971           1475        7554   \n51        0.00                  227            465        9308   \n\n    engagement_rate  click_through_rate  ...  submission_date_month  \\\n0          0.146857            0.551839  ...                     12   \n1          0.060739            0.172840  ...                      4   \n2          0.100478            0.109513  ...                     12   \n3          0.400000            0.000000  ...                      4   \n4          0.182169            0.815194  ...                      5   \n6          0.138343            0.764388  ...                      5   \n7          0.159128            0.677548  ...                      2   \n8          0.205144            0.118776  ...                     12   \n9          0.036235            0.137931  ...                     12   \n10         0.130653            0.727017  ...                      5   \n11         0.219863            0.096556  ...                     12   \n12         0.007519            0.666667  ...                     10   \n13         0.007519            0.666667  ...                     10   \n14         0.076204            0.307359  ...                     12   \n15         0.007634            0.333333  ...                      7   \n17         0.144522            0.144355  ...                     12   \n18         0.139129            0.222876  ...                      2   \n19         0.066139            0.270492  ...                     12   \n20         0.089224            0.307885  ...                     12   \n23         0.095620            0.348288  ...                      2   \n24         0.190636            0.520298  ...                      2   \n25         0.144280            0.094703  ...                     12   \n26         0.155694            0.293210  ...                      4   \n30         0.138046            0.692583  ...                      2   \n31         0.068947            0.293839  ...                     12   \n32         0.131753            0.729730  ...                      2   \n33         0.082379            0.229947  ...                      4   \n35         0.150695            0.244287  ...                      4   \n37         0.221012            0.960441  ...                     11   \n38         0.070995            0.181679  ...                     12   \n39         0.221531            0.096067  ...                      5   \n40         0.153200            0.537097  ...                     12   \n41         0.215016            0.443023  ...                      5   \n42         0.020654            1.250000  ...                      8   \n43         0.119668            0.146388  ...                     12   \n44         0.031034            0.000000  ...                      4   \n45         0.014527            0.563380  ...                      5   \n46         0.239903            0.462275  ...                      6   \n47         0.221577            0.446365  ...                      2   \n49         0.021140            0.004831  ...                      4   \n50         0.195261            0.658305  ...                      5   \n51         0.049957            0.488172  ...                      1   \n\n    submission_date_date  submission_date_hour  submission_date_minute  \\\n0                     19                    17                      38   \n1                     21                    16                      54   \n2                     15                    23                      57   \n3                     22                    11                      25   \n4                     10                    12                      50   \n6                     10                    12                      50   \n7                     14                    14                      48   \n8                      5                    18                      54   \n9                     22                     6                      24   \n10                    10                    12                      50   \n11                     5                    18                      54   \n12                    11                     5                      52   \n13                    11                    22                      49   \n14                     5                    18                      54   \n15                    10                    21                      50   \n17                     5                    18                      54   \n18                    16                    21                      37   \n19                     5                    18                      54   \n20                     5                    18                      54   \n23                    26                    16                       4   \n24                    14                    14                      48   \n25                    15                    23                      57   \n26                    30                     9                      52   \n30                    14                    14                      48   \n31                     5                    18                      54   \n32                    14                    14                      48   \n33                    21                    16                      54   \n35                    30                     9                      52   \n37                    19                     3                      45   \n38                    15                    23                      57   \n39                    20                     0                      52   \n40                    19                    17                      38   \n41                    10                    12                      50   \n42                    31                    10                      17   \n43                     5                    18                      54   \n44                    21                    16                      54   \n45                    28                     6                      24   \n46                    12                    22                       8   \n47                    14                    14                      48   \n49                    21                    16                      54   \n50                    10                    12                      50   \n51                     3                    12                      57   \n\n    start_date_year  start_date_month  start_date_date  end_date_year  \\\n0              2020                 1               13           2019   \n1              2021                 4               30           2021   \n2              2021                 1               11           2021   \n3              2020                 5                4           2020   \n4              2020                10               12           2020   \n6              2020                10               12           2020   \n7              2020                 3                1           2020   \n8              2021                 5               22           2021   \n9              2021                 1                8           2021   \n10             2020                10               12           2020   \n11             2021                 5               22           2021   \n12             2020                12                1           2020   \n13             2020                12                1           2020   \n14             2021                 5               22           2021   \n15             2020                12               14           2020   \n17             2021                 5               22           2021   \n18             2021                 3                1           2021   \n19             2021                 5               22           2021   \n20             2021                 5               22           2021   \n23             2020                 4                1           2020   \n24             2020                 3                1           2020   \n25             2021                 1               11           2021   \n26             2021                 5               14           2021   \n30             2020                 3                1           2020   \n31             2021                 5               22           2021   \n32             2020                 3                1           2020   \n33             2021                 4               30           2021   \n35             2021                 5               14           2021   \n37             2020                12                3           2020   \n38             2021                 1               11           2021   \n39             2021                 6               16           2021   \n40             2020                 1               13           2019   \n41             2020                10               12           2020   \n42             2020                10                1           2020   \n43             2021                 5               22           2021   \n44             2021                 4               30           2021   \n45             2021                 6               21           2021   \n46             2020                12               14           2021   \n47             2020                 3                1           2020   \n49             2021                 4               30           2021   \n50             2020                10               12           2020   \n51             2021                 3               15           2021   \n\n    end_date_month  end_date_date  \n0               12             20  \n1                5             16  \n2                1             31  \n3                8             31  \n4               12             31  \n6               12             31  \n7               11             30  \n8                6             20  \n9                2             18  \n10              12             31  \n11               6             20  \n12              12             31  \n13              12             31  \n14               6             20  \n15              12             16  \n17               6             20  \n18               3             31  \n19               6             20  \n20               6             20  \n23              10             31  \n24              11             30  \n25               1             31  \n26               6              6  \n30              11             30  \n31               6             20  \n32              11             30  \n33               5             16  \n35               6              6  \n37              12             31  \n38               1             31  \n39               7             13  \n40              12             20  \n41              12             31  \n42              12             31  \n43               6             20  \n44               5             16  \n45               7             31  \n46               1             10  \n47              11             30  \n49               5             16  \n50              12             31  \n51               4             11  \n\n[42 rows x 21 columns]",
      "text/html": "<div>\n<style scoped>\n    .dataframe tbody tr th:only-of-type {\n        vertical-align: middle;\n    }\n\n    .dataframe tbody tr th {\n        vertical-align: top;\n    }\n\n    .dataframe thead th {\n        text-align: right;\n    }\n</style>\n<table border=\"1\" class=\"dataframe\">\n  <thead>\n    <tr style=\"text-align: right;\">\n      <th></th>\n      <th>black_white_audience_list_included</th>\n      <th>buy_rate</th>\n      <th>volume_agreed</th>\n      <th>gross_cost</th>\n      <th>net_cost</th>\n      <th>click-through-event</th>\n      <th>first_dropped</th>\n      <th>impression</th>\n      <th>engagement_rate</th>\n      <th>click_through_rate</th>\n      <th>...</th>\n      <th>submission_date_month</th>\n      <th>submission_date_date</th>\n      <th>submission_date_hour</th>\n      <th>submission_date_minute</th>\n      <th>start_date_year</th>\n      <th>start_date_month</th>\n      <th>start_date_date</th>\n      <th>end_date_year</th>\n      <th>end_date_month</th>\n      <th>end_date_date</th>\n    </tr>\n  </thead>\n  <tbody>\n    <tr>\n      <th>0</th>\n      <td>0</td>\n      <td>0.30</td>\n      <td>0.00</td>\n      <td>0.00</td>\n      <td>0.00</td>\n      <td>660</td>\n      <td>1196</td>\n      <td>8144</td>\n      <td>0.146857</td>\n      <td>0.551839</td>\n      <td>...</td>\n      <td>12</td>\n      <td>19</td>\n      <td>17</td>\n      <td>38</td>\n      <td>2020</td>\n      <td>1</td>\n      <td>13</td>\n      <td>2019</td>\n      <td>12</td>\n      <td>20</td>\n    </tr>\n    <tr>\n      <th>1</th>\n      <td>1</td>\n      <td>0.33</td>\n      <td>151515.15</td>\n      <td>50000.00</td>\n      <td>50000.00</td>\n      <td>98</td>\n      <td>567</td>\n      <td>9335</td>\n      <td>0.060739</td>\n      <td>0.172840</td>\n      <td>...</td>\n      <td>4</td>\n      <td>21</td>\n      <td>16</td>\n      <td>54</td>\n      <td>2021</td>\n      <td>4</td>\n      <td>30</td>\n      <td>2021</td>\n      <td>5</td>\n      <td>16</td>\n    </tr>\n    <tr>\n      <th>2</th>\n      <td>0</td>\n      <td>0.63</td>\n      <td>40336.00</td>\n      <td>25411.68</td>\n      <td>21599.93</td>\n      <td>99</td>\n      <td>904</td>\n      <td>8997</td>\n      <td>0.100478</td>\n      <td>0.109513</td>\n      <td>...</td>\n      <td>12</td>\n      <td>15</td>\n      <td>23</td>\n      <td>57</td>\n      <td>2021</td>\n      <td>1</td>\n      <td>11</td>\n      <td>2021</td>\n      <td>1</td>\n      <td>31</td>\n    </tr>\n    <tr>\n      <th>3</th>\n      <td>1</td>\n      <td>0.30</td>\n      <td>5963333.33</td>\n      <td>1789000.00</td>\n      <td>1789000.00</td>\n      <td>0</td>\n      <td>6</td>\n      <td>15</td>\n      <td>0.400000</td>\n      <td>0.000000</td>\n      <td>...</td>\n      <td>4</td>\n      <td>22</td>\n      <td>11</td>\n      <td>25</td>\n      <td>2020</td>\n      <td>5</td>\n      <td>4</td>\n      <td>2020</td>\n      <td>8</td>\n      <td>31</td>\n    </tr>\n    <tr>\n      <th>4</th>\n      <td>1</td>\n      <td>0.40</td>\n      <td>0.00</td>\n      <td>0.00</td>\n      <td>0.00</td>\n      <td>1116</td>\n      <td>1369</td>\n      <td>7515</td>\n      <td>0.182169</td>\n      <td>0.815194</td>\n      <td>...</td>\n      <td>5</td>\n      <td>10</td>\n      <td>12</td>\n      <td>50</td>\n      <td>2020</td>\n      <td>10</td>\n      <td>12</td>\n      <td>2020</td>\n      <td>12</td>\n      <td>31</td>\n    </tr>\n    <tr>\n      <th>6</th>\n      <td>1</td>\n      <td>0.40</td>\n      <td>0.00</td>\n      <td>0.00</td>\n      <td>0.00</td>\n      <td>850</td>\n      <td>1112</td>\n      <td>8038</td>\n      <td>0.138343</td>\n      <td>0.764388</td>\n      <td>...</td>\n      <td>5</td>\n      <td>10</td>\n      <td>12</td>\n      <td>50</td>\n      <td>2020</td>\n      <td>10</td>\n      <td>12</td>\n      <td>2020</td>\n      <td>12</td>\n      <td>31</td>\n    </tr>\n    <tr>\n      <th>7</th>\n      <td>1</td>\n      <td>0.40</td>\n      <td>531179.00</td>\n      <td>212471.60</td>\n      <td>212471.60</td>\n      <td>851</td>\n      <td>1256</td>\n      <td>7893</td>\n      <td>0.159128</td>\n      <td>0.677548</td>\n      <td>...</td>\n      <td>2</td>\n      <td>14</td>\n      <td>14</td>\n      <td>48</td>\n      <td>2020</td>\n      <td>3</td>\n      <td>1</td>\n      <td>2020</td>\n      <td>11</td>\n      <td>30</td>\n    </tr>\n    <tr>\n      <th>8</th>\n      <td>1</td>\n      <td>0.35</td>\n      <td>214285.71</td>\n      <td>75000.00</td>\n      <td>75000.00</td>\n      <td>198</td>\n      <td>1667</td>\n      <td>8126</td>\n      <td>0.205144</td>\n      <td>0.118776</td>\n      <td>...</td>\n      <td>12</td>\n      <td>5</td>\n      <td>18</td>\n      <td>54</td>\n      <td>2021</td>\n      <td>5</td>\n      <td>22</td>\n      <td>2021</td>\n      <td>6</td>\n      <td>20</td>\n    </tr>\n    <tr>\n      <th>9</th>\n      <td>1</td>\n      <td>0.49</td>\n      <td>64826.00</td>\n      <td>31764.74</td>\n      <td>27000.03</td>\n      <td>48</td>\n      <td>348</td>\n      <td>9604</td>\n      <td>0.036235</td>\n      <td>0.137931</td>\n      <td>...</td>\n      <td>12</td>\n      <td>22</td>\n      <td>6</td>\n      <td>24</td>\n      <td>2021</td>\n      <td>1</td>\n      <td>8</td>\n      <td>2021</td>\n      <td>2</td>\n      <td>18</td>\n    </tr>\n    <tr>\n      <th>10</th>\n      <td>1</td>\n      <td>0.40</td>\n      <td>0.00</td>\n      <td>0.00</td>\n      <td>0.00</td>\n      <td>775</td>\n      <td>1066</td>\n      <td>8159</td>\n      <td>0.130653</td>\n      <td>0.727017</td>\n      <td>...</td>\n      <td>5</td>\n      <td>10</td>\n      <td>12</td>\n      <td>50</td>\n      <td>2020</td>\n      <td>10</td>\n      <td>12</td>\n      <td>2020</td>\n      <td>12</td>\n      <td>31</td>\n    </tr>\n    <tr>\n      <th>11</th>\n      <td>1</td>\n      <td>0.35</td>\n      <td>214285.71</td>\n      <td>75000.00</td>\n      <td>75000.00</td>\n      <td>171</td>\n      <td>1771</td>\n      <td>8055</td>\n      <td>0.219863</td>\n      <td>0.096556</td>\n      <td>...</td>\n      <td>12</td>\n      <td>5</td>\n      <td>18</td>\n      <td>54</td>\n      <td>2021</td>\n      <td>5</td>\n      <td>22</td>\n      <td>2021</td>\n      <td>6</td>\n      <td>20</td>\n    </tr>\n    <tr>\n      <th>12</th>\n      <td>1</td>\n      <td>0.49</td>\n      <td>55222.00</td>\n      <td>27058.78</td>\n      <td>22999.96</td>\n      <td>2</td>\n      <td>3</td>\n      <td>399</td>\n      <td>0.007519</td>\n      <td>0.666667</td>\n      <td>...</td>\n      <td>10</td>\n      <td>11</td>\n      <td>5</td>\n      <td>52</td>\n      <td>2020</td>\n      <td>12</td>\n      <td>1</td>\n      <td>2020</td>\n      <td>12</td>\n      <td>31</td>\n    </tr>\n    <tr>\n      <th>13</th>\n      <td>1</td>\n      <td>0.49</td>\n      <td>55222.00</td>\n      <td>27058.78</td>\n      <td>22999.96</td>\n      <td>2</td>\n      <td>3</td>\n      <td>399</td>\n      <td>0.007519</td>\n      <td>0.666667</td>\n      <td>...</td>\n      <td>10</td>\n      <td>11</td>\n      <td>22</td>\n      <td>49</td>\n      <td>2020</td>\n      <td>12</td>\n      <td>1</td>\n      <td>2020</td>\n      <td>12</td>\n      <td>31</td>\n    </tr>\n    <tr>\n      <th>14</th>\n      <td>1</td>\n      <td>0.35</td>\n      <td>214285.71</td>\n      <td>75000.00</td>\n      <td>75000.00</td>\n      <td>213</td>\n      <td>693</td>\n      <td>9094</td>\n      <td>0.076204</td>\n      <td>0.307359</td>\n      <td>...</td>\n      <td>12</td>\n      <td>5</td>\n      <td>18</td>\n      <td>54</td>\n      <td>2021</td>\n      <td>5</td>\n      <td>22</td>\n      <td>2021</td>\n      <td>6</td>\n      <td>20</td>\n    </tr>\n    <tr>\n      <th>15</th>\n      <td>1</td>\n      <td>0.27</td>\n      <td>196078.00</td>\n      <td>52941.06</td>\n      <td>44999.90</td>\n      <td>1</td>\n      <td>3</td>\n      <td>393</td>\n      <td>0.007634</td>\n      <td>0.333333</td>\n      <td>...</td>\n      <td>7</td>\n      <td>10</td>\n      <td>21</td>\n      <td>50</td>\n      <td>2020</td>\n      <td>12</td>\n      <td>14</td>\n      <td>2020</td>\n      <td>12</td>\n      <td>16</td>\n    </tr>\n    <tr>\n      <th>17</th>\n      <td>1</td>\n      <td>0.35</td>\n      <td>214285.71</td>\n      <td>75000.00</td>\n      <td>75000.00</td>\n      <td>179</td>\n      <td>1240</td>\n      <td>8580</td>\n      <td>0.144522</td>\n      <td>0.144355</td>\n      <td>...</td>\n      <td>12</td>\n      <td>5</td>\n      <td>18</td>\n      <td>54</td>\n      <td>2021</td>\n      <td>5</td>\n      <td>22</td>\n      <td>2021</td>\n      <td>6</td>\n      <td>20</td>\n    </tr>\n    <tr>\n      <th>18</th>\n      <td>1</td>\n      <td>0.43</td>\n      <td>91929.00</td>\n      <td>39529.47</td>\n      <td>33600.05</td>\n      <td>265</td>\n      <td>1189</td>\n      <td>8546</td>\n      <td>0.139129</td>\n      <td>0.222876</td>\n      <td>...</td>\n      <td>2</td>\n      <td>16</td>\n      <td>21</td>\n      <td>37</td>\n      <td>2021</td>\n      <td>3</td>\n      <td>1</td>\n      <td>2021</td>\n      <td>3</td>\n      <td>31</td>\n    </tr>\n    <tr>\n      <th>19</th>\n      <td>1</td>\n      <td>0.35</td>\n      <td>214285.71</td>\n      <td>75000.00</td>\n      <td>75000.00</td>\n      <td>165</td>\n      <td>610</td>\n      <td>9223</td>\n      <td>0.066139</td>\n      <td>0.270492</td>\n      <td>...</td>\n      <td>12</td>\n      <td>5</td>\n      <td>18</td>\n      <td>54</td>\n      <td>2021</td>\n      <td>5</td>\n      <td>22</td>\n      <td>2021</td>\n      <td>6</td>\n      <td>20</td>\n    </tr>\n    <tr>\n      <th>20</th>\n      <td>1</td>\n      <td>0.35</td>\n      <td>214285.71</td>\n      <td>75000.00</td>\n      <td>75000.00</td>\n      <td>246</td>\n      <td>799</td>\n      <td>8955</td>\n      <td>0.089224</td>\n      <td>0.307885</td>\n      <td>...</td>\n      <td>12</td>\n      <td>5</td>\n      <td>18</td>\n      <td>54</td>\n      <td>2021</td>\n      <td>5</td>\n      <td>22</td>\n      <td>2021</td>\n      <td>6</td>\n      <td>20</td>\n    </tr>\n    <tr>\n      <th>23</th>\n      <td>1</td>\n      <td>0.45</td>\n      <td>222222.00</td>\n      <td>99999.90</td>\n      <td>99999.90</td>\n      <td>295</td>\n      <td>847</td>\n      <td>8858</td>\n      <td>0.095620</td>\n      <td>0.348288</td>\n      <td>...</td>\n      <td>2</td>\n      <td>26</td>\n      <td>16</td>\n      <td>4</td>\n      <td>2020</td>\n      <td>4</td>\n      <td>1</td>\n      <td>2020</td>\n      <td>10</td>\n      <td>31</td>\n    </tr>\n    <tr>\n      <th>24</th>\n      <td>1</td>\n      <td>0.40</td>\n      <td>531179.00</td>\n      <td>212471.60</td>\n      <td>212471.60</td>\n      <td>769</td>\n      <td>1478</td>\n      <td>7753</td>\n      <td>0.190636</td>\n      <td>0.520298</td>\n      <td>...</td>\n      <td>2</td>\n      <td>14</td>\n      <td>14</td>\n      <td>48</td>\n      <td>2020</td>\n      <td>3</td>\n      <td>1</td>\n      <td>2020</td>\n      <td>11</td>\n      <td>30</td>\n    </tr>\n    <tr>\n      <th>25</th>\n      <td>0</td>\n      <td>0.63</td>\n      <td>40336.00</td>\n      <td>25411.68</td>\n      <td>21599.93</td>\n      <td>118</td>\n      <td>1246</td>\n      <td>8636</td>\n      <td>0.144280</td>\n      <td>0.094703</td>\n      <td>...</td>\n      <td>12</td>\n      <td>15</td>\n      <td>23</td>\n      <td>57</td>\n      <td>2021</td>\n      <td>1</td>\n      <td>11</td>\n      <td>2021</td>\n      <td>1</td>\n      <td>31</td>\n    </tr>\n    <tr>\n      <th>26</th>\n      <td>1</td>\n      <td>13.00</td>\n      <td>10000.00</td>\n      <td>130000.00</td>\n      <td>110500.00</td>\n      <td>380</td>\n      <td>1296</td>\n      <td>8324</td>\n      <td>0.155694</td>\n      <td>0.293210</td>\n      <td>...</td>\n      <td>4</td>\n      <td>30</td>\n      <td>9</td>\n      <td>52</td>\n      <td>2021</td>\n      <td>5</td>\n      <td>14</td>\n      <td>2021</td>\n      <td>6</td>\n      <td>6</td>\n    </tr>\n    <tr>\n      <th>30</th>\n      <td>1</td>\n      <td>0.40</td>\n      <td>531179.00</td>\n      <td>212471.60</td>\n      <td>212471.60</td>\n      <td>775</td>\n      <td>1119</td>\n      <td>8106</td>\n      <td>0.138046</td>\n      <td>0.692583</td>\n      <td>...</td>\n      <td>2</td>\n      <td>14</td>\n      <td>14</td>\n      <td>48</td>\n      <td>2020</td>\n      <td>3</td>\n      <td>1</td>\n      <td>2020</td>\n      <td>11</td>\n      <td>30</td>\n    </tr>\n    <tr>\n      <th>31</th>\n      <td>1</td>\n      <td>0.35</td>\n      <td>214285.71</td>\n      <td>75000.00</td>\n      <td>75000.00</td>\n      <td>186</td>\n      <td>633</td>\n      <td>9181</td>\n      <td>0.068947</td>\n      <td>0.293839</td>\n      <td>...</td>\n      <td>12</td>\n      <td>5</td>\n      <td>18</td>\n      <td>54</td>\n      <td>2021</td>\n      <td>5</td>\n      <td>22</td>\n      <td>2021</td>\n      <td>6</td>\n      <td>20</td>\n    </tr>\n    <tr>\n      <th>32</th>\n      <td>1</td>\n      <td>0.40</td>\n      <td>531179.00</td>\n      <td>212471.60</td>\n      <td>212471.60</td>\n      <td>783</td>\n      <td>1073</td>\n      <td>8144</td>\n      <td>0.131753</td>\n      <td>0.729730</td>\n      <td>...</td>\n      <td>2</td>\n      <td>14</td>\n      <td>14</td>\n      <td>48</td>\n      <td>2020</td>\n      <td>3</td>\n      <td>1</td>\n      <td>2020</td>\n      <td>11</td>\n      <td>30</td>\n    </tr>\n    <tr>\n      <th>33</th>\n      <td>1</td>\n      <td>0.33</td>\n      <td>151515.15</td>\n      <td>50000.00</td>\n      <td>50000.00</td>\n      <td>172</td>\n      <td>748</td>\n      <td>9080</td>\n      <td>0.082379</td>\n      <td>0.229947</td>\n      <td>...</td>\n      <td>4</td>\n      <td>21</td>\n      <td>16</td>\n      <td>54</td>\n      <td>2021</td>\n      <td>4</td>\n      <td>30</td>\n      <td>2021</td>\n      <td>5</td>\n      <td>16</td>\n    </tr>\n    <tr>\n      <th>35</th>\n      <td>1</td>\n      <td>13.00</td>\n      <td>10000.00</td>\n      <td>130000.00</td>\n      <td>110500.00</td>\n      <td>310</td>\n      <td>1269</td>\n      <td>8421</td>\n      <td>0.150695</td>\n      <td>0.244287</td>\n      <td>...</td>\n      <td>4</td>\n      <td>30</td>\n      <td>9</td>\n      <td>52</td>\n      <td>2021</td>\n      <td>5</td>\n      <td>14</td>\n      <td>2021</td>\n      <td>6</td>\n      <td>6</td>\n    </tr>\n    <tr>\n      <th>37</th>\n      <td>1</td>\n      <td>3.90</td>\n      <td>36199.00</td>\n      <td>141176.10</td>\n      <td>119999.68</td>\n      <td>1481</td>\n      <td>1542</td>\n      <td>6977</td>\n      <td>0.221012</td>\n      <td>0.960441</td>\n      <td>...</td>\n      <td>11</td>\n      <td>19</td>\n      <td>3</td>\n      <td>45</td>\n      <td>2020</td>\n      <td>12</td>\n      <td>3</td>\n      <td>2020</td>\n      <td>12</td>\n      <td>31</td>\n    </tr>\n    <tr>\n      <th>38</th>\n      <td>0</td>\n      <td>0.63</td>\n      <td>40336.00</td>\n      <td>25411.68</td>\n      <td>21599.93</td>\n      <td>119</td>\n      <td>655</td>\n      <td>9226</td>\n      <td>0.070995</td>\n      <td>0.181679</td>\n      <td>...</td>\n      <td>12</td>\n      <td>15</td>\n      <td>23</td>\n      <td>57</td>\n      <td>2021</td>\n      <td>1</td>\n      <td>11</td>\n      <td>2021</td>\n      <td>1</td>\n      <td>31</td>\n    </tr>\n    <tr>\n      <th>39</th>\n      <td>1</td>\n      <td>0.43</td>\n      <td>91929.00</td>\n      <td>39529.47</td>\n      <td>33600.05</td>\n      <td>171</td>\n      <td>1780</td>\n      <td>8035</td>\n      <td>0.221531</td>\n      <td>0.096067</td>\n      <td>...</td>\n      <td>5</td>\n      <td>20</td>\n      <td>0</td>\n      <td>52</td>\n      <td>2021</td>\n      <td>6</td>\n      <td>16</td>\n      <td>2021</td>\n      <td>7</td>\n      <td>13</td>\n    </tr>\n    <tr>\n      <th>40</th>\n      <td>0</td>\n      <td>0.30</td>\n      <td>0.00</td>\n      <td>0.00</td>\n      <td>0.00</td>\n      <td>666</td>\n      <td>1240</td>\n      <td>8094</td>\n      <td>0.153200</td>\n      <td>0.537097</td>\n      <td>...</td>\n      <td>12</td>\n      <td>19</td>\n      <td>17</td>\n      <td>38</td>\n      <td>2020</td>\n      <td>1</td>\n      <td>13</td>\n      <td>2019</td>\n      <td>12</td>\n      <td>20</td>\n    </tr>\n    <tr>\n      <th>41</th>\n      <td>1</td>\n      <td>0.40</td>\n      <td>0.00</td>\n      <td>0.00</td>\n      <td>0.00</td>\n      <td>727</td>\n      <td>1641</td>\n      <td>7632</td>\n      <td>0.215016</td>\n      <td>0.443023</td>\n      <td>...</td>\n      <td>5</td>\n      <td>10</td>\n      <td>12</td>\n      <td>50</td>\n      <td>2020</td>\n      <td>10</td>\n      <td>12</td>\n      <td>2020</td>\n      <td>12</td>\n      <td>31</td>\n    </tr>\n    <tr>\n      <th>42</th>\n      <td>1</td>\n      <td>0.45</td>\n      <td>315111.11</td>\n      <td>141800.00</td>\n      <td>141800.00</td>\n      <td>15</td>\n      <td>12</td>\n      <td>581</td>\n      <td>0.020654</td>\n      <td>1.250000</td>\n      <td>...</td>\n      <td>8</td>\n      <td>31</td>\n      <td>10</td>\n      <td>17</td>\n      <td>2020</td>\n      <td>10</td>\n      <td>1</td>\n      <td>2020</td>\n      <td>12</td>\n      <td>31</td>\n    </tr>\n    <tr>\n      <th>43</th>\n      <td>1</td>\n      <td>0.35</td>\n      <td>214285.71</td>\n      <td>75000.00</td>\n      <td>75000.00</td>\n      <td>154</td>\n      <td>1052</td>\n      <td>8791</td>\n      <td>0.119668</td>\n      <td>0.146388</td>\n      <td>...</td>\n      <td>12</td>\n      <td>5</td>\n      <td>18</td>\n      <td>54</td>\n      <td>2021</td>\n      <td>5</td>\n      <td>22</td>\n      <td>2021</td>\n      <td>6</td>\n      <td>20</td>\n    </tr>\n    <tr>\n      <th>44</th>\n      <td>1</td>\n      <td>0.33</td>\n      <td>151515.15</td>\n      <td>50000.00</td>\n      <td>50000.00</td>\n      <td>0</td>\n      <td>301</td>\n      <td>9699</td>\n      <td>0.031034</td>\n      <td>0.000000</td>\n      <td>...</td>\n      <td>4</td>\n      <td>21</td>\n      <td>16</td>\n      <td>54</td>\n      <td>2021</td>\n      <td>4</td>\n      <td>30</td>\n      <td>2021</td>\n      <td>5</td>\n      <td>16</td>\n    </tr>\n    <tr>\n      <th>45</th>\n      <td>1</td>\n      <td>15.00</td>\n      <td>6274.00</td>\n      <td>94110.00</td>\n      <td>79993.50</td>\n      <td>80</td>\n      <td>142</td>\n      <td>9775</td>\n      <td>0.014527</td>\n      <td>0.563380</td>\n      <td>...</td>\n      <td>5</td>\n      <td>28</td>\n      <td>6</td>\n      <td>24</td>\n      <td>2021</td>\n      <td>6</td>\n      <td>21</td>\n      <td>2021</td>\n      <td>7</td>\n      <td>31</td>\n    </tr>\n    <tr>\n      <th>46</th>\n      <td>1</td>\n      <td>28.00</td>\n      <td>7392.00</td>\n      <td>206976.00</td>\n      <td>175929.60</td>\n      <td>821</td>\n      <td>1776</td>\n      <td>7403</td>\n      <td>0.239903</td>\n      <td>0.462275</td>\n      <td>...</td>\n      <td>6</td>\n      <td>12</td>\n      <td>22</td>\n      <td>8</td>\n      <td>2020</td>\n      <td>12</td>\n      <td>14</td>\n      <td>2021</td>\n      <td>1</td>\n      <td>10</td>\n    </tr>\n    <tr>\n      <th>47</th>\n      <td>1</td>\n      <td>0.40</td>\n      <td>531179.00</td>\n      <td>212471.60</td>\n      <td>212471.60</td>\n      <td>749</td>\n      <td>1678</td>\n      <td>7573</td>\n      <td>0.221577</td>\n      <td>0.446365</td>\n      <td>...</td>\n      <td>2</td>\n      <td>14</td>\n      <td>14</td>\n      <td>48</td>\n      <td>2020</td>\n      <td>3</td>\n      <td>1</td>\n      <td>2020</td>\n      <td>11</td>\n      <td>30</td>\n    </tr>\n    <tr>\n      <th>49</th>\n      <td>1</td>\n      <td>0.33</td>\n      <td>151515.15</td>\n      <td>50000.00</td>\n      <td>50000.00</td>\n      <td>1</td>\n      <td>207</td>\n      <td>9792</td>\n      <td>0.021140</td>\n      <td>0.004831</td>\n      <td>...</td>\n      <td>4</td>\n      <td>21</td>\n      <td>16</td>\n      <td>54</td>\n      <td>2021</td>\n      <td>4</td>\n      <td>30</td>\n      <td>2021</td>\n      <td>5</td>\n      <td>16</td>\n    </tr>\n    <tr>\n      <th>50</th>\n      <td>1</td>\n      <td>0.40</td>\n      <td>0.00</td>\n      <td>0.00</td>\n      <td>0.00</td>\n      <td>971</td>\n      <td>1475</td>\n      <td>7554</td>\n      <td>0.195261</td>\n      <td>0.658305</td>\n      <td>...</td>\n      <td>5</td>\n      <td>10</td>\n      <td>12</td>\n      <td>50</td>\n      <td>2020</td>\n      <td>10</td>\n      <td>12</td>\n      <td>2020</td>\n      <td>12</td>\n      <td>31</td>\n    </tr>\n    <tr>\n      <th>51</th>\n      <td>1</td>\n      <td>13.00</td>\n      <td>0.00</td>\n      <td>0.00</td>\n      <td>0.00</td>\n      <td>227</td>\n      <td>465</td>\n      <td>9308</td>\n      <td>0.049957</td>\n      <td>0.488172</td>\n      <td>...</td>\n      <td>1</td>\n      <td>3</td>\n      <td>12</td>\n      <td>57</td>\n      <td>2021</td>\n      <td>3</td>\n      <td>15</td>\n      <td>2021</td>\n      <td>4</td>\n      <td>11</td>\n    </tr>\n  </tbody>\n</table>\n<p>42 rows × 21 columns</p>\n</div>"
     },
     "execution_count": 10,
     "metadata": {},
     "output_type": "execute_result"
    }
   ],
   "source": [
    "data"
   ],
   "metadata": {
    "collapsed": false,
    "pycharm": {
     "name": "#%%\n"
    }
   }
  },
  {
   "cell_type": "code",
   "execution_count": 11,
   "outputs": [
    {
     "name": "stdout",
     "output_type": "stream",
     "text": [
      "<class 'pandas.core.frame.DataFrame'>\n",
      "Int64Index: 42 entries, 0 to 51\n",
      "Data columns (total 21 columns):\n",
      " #   Column                              Non-Null Count  Dtype  \n",
      "---  ------                              --------------  -----  \n",
      " 0   black_white_audience_list_included  42 non-null     int64  \n",
      " 1   buy_rate                            42 non-null     float64\n",
      " 2   volume_agreed                       42 non-null     float64\n",
      " 3   gross_cost                          42 non-null     float64\n",
      " 4   net_cost                            42 non-null     float64\n",
      " 5   click-through-event                 42 non-null     int64  \n",
      " 6   first_dropped                       42 non-null     int64  \n",
      " 7   impression                          42 non-null     int64  \n",
      " 8   engagement_rate                     42 non-null     float64\n",
      " 9   click_through_rate                  42 non-null     float64\n",
      " 10  submission_date_year                42 non-null     int64  \n",
      " 11  submission_date_month               42 non-null     int64  \n",
      " 12  submission_date_date                42 non-null     int64  \n",
      " 13  submission_date_hour                42 non-null     int64  \n",
      " 14  submission_date_minute              42 non-null     int64  \n",
      " 15  start_date_year                     42 non-null     int64  \n",
      " 16  start_date_month                    42 non-null     int64  \n",
      " 17  start_date_date                     42 non-null     int64  \n",
      " 18  end_date_year                       42 non-null     int64  \n",
      " 19  end_date_month                      42 non-null     int64  \n",
      " 20  end_date_date                       42 non-null     int64  \n",
      "dtypes: float64(6), int64(15)\n",
      "memory usage: 7.2 KB\n"
     ]
    }
   ],
   "source": [
    "data.info()"
   ],
   "metadata": {
    "collapsed": false,
    "pycharm": {
     "name": "#%%\n"
    }
   }
  },
  {
   "cell_type": "code",
   "execution_count": 13,
   "outputs": [],
   "source": [
    "data_n = data_normalize(data)"
   ],
   "metadata": {
    "collapsed": false,
    "pycharm": {
     "name": "#%%\n"
    }
   }
  },
  {
   "cell_type": "code",
   "execution_count": 14,
   "outputs": [
    {
     "data": {
      "text/plain": "42"
     },
     "execution_count": 14,
     "metadata": {},
     "output_type": "execute_result"
    }
   ],
   "source": [
    "target_n = data_n['click_through_rate']\n",
    "len(target_n)"
   ],
   "metadata": {
    "collapsed": false,
    "pycharm": {
     "name": "#%%\n"
    }
   }
  },
  {
   "cell_type": "code",
   "execution_count": 15,
   "outputs": [
    {
     "data": {
      "text/plain": "   black_white_audience_list_included  buy_rate  volume_agreed  gross_cost  \\\n0                                 0.0  0.001082       0.000000    0.000000   \n1                                 1.0  0.002164       0.025408    0.027949   \n2                                 0.0  0.012982       0.006764    0.014204   \n3                                 1.0  0.001082       1.000000    1.000000   \n4                                 1.0  0.004688       0.000000    0.000000   \n\n   net_cost  click-through-event  first_dropped  impression  engagement_rate  \\\n0  0.000000             0.445645       0.671356    0.831441         0.355018   \n1  0.027949             0.066172       0.317389    0.953258         0.135600   \n2  0.012074             0.066847       0.507034    0.918687         0.236850   \n3  1.000000             0.000000       0.001688    0.000000         1.000000   \n4  0.000000             0.753545       0.768711    0.767106         0.444990   \n\n   submission_date_year  submission_date_month  submission_date_date  \\\n0                   0.0               1.000000              0.571429   \n1                   1.0               0.272727              0.642857   \n2                   0.5               1.000000              0.428571   \n3                   0.5               0.272727              0.678571   \n4                   0.5               0.363636              0.250000   \n\n   submission_date_hour  submission_date_minute  start_date_year  \\\n0              0.739130                0.641509              0.0   \n1              0.695652                0.943396              1.0   \n2              1.000000                1.000000              1.0   \n3              0.478261                0.396226              0.0   \n4              0.521739                0.867925              0.0   \n\n   start_date_month  start_date_date  end_date_year  end_date_month  \\\n0          0.000000         0.413793            0.0        1.000000   \n1          0.272727         1.000000            1.0        0.363636   \n2          0.000000         0.344828            1.0        0.000000   \n3          0.363636         0.103448            0.5        0.636364   \n4          0.818182         0.379310            0.5        1.000000   \n\n   end_date_date  \n0           0.56  \n1           0.40  \n2           1.00  \n3           1.00  \n4           1.00  ",
      "text/html": "<div>\n<style scoped>\n    .dataframe tbody tr th:only-of-type {\n        vertical-align: middle;\n    }\n\n    .dataframe tbody tr th {\n        vertical-align: top;\n    }\n\n    .dataframe thead th {\n        text-align: right;\n    }\n</style>\n<table border=\"1\" class=\"dataframe\">\n  <thead>\n    <tr style=\"text-align: right;\">\n      <th></th>\n      <th>black_white_audience_list_included</th>\n      <th>buy_rate</th>\n      <th>volume_agreed</th>\n      <th>gross_cost</th>\n      <th>net_cost</th>\n      <th>click-through-event</th>\n      <th>first_dropped</th>\n      <th>impression</th>\n      <th>engagement_rate</th>\n      <th>submission_date_year</th>\n      <th>submission_date_month</th>\n      <th>submission_date_date</th>\n      <th>submission_date_hour</th>\n      <th>submission_date_minute</th>\n      <th>start_date_year</th>\n      <th>start_date_month</th>\n      <th>start_date_date</th>\n      <th>end_date_year</th>\n      <th>end_date_month</th>\n      <th>end_date_date</th>\n    </tr>\n  </thead>\n  <tbody>\n    <tr>\n      <th>0</th>\n      <td>0.0</td>\n      <td>0.001082</td>\n      <td>0.000000</td>\n      <td>0.000000</td>\n      <td>0.000000</td>\n      <td>0.445645</td>\n      <td>0.671356</td>\n      <td>0.831441</td>\n      <td>0.355018</td>\n      <td>0.0</td>\n      <td>1.000000</td>\n      <td>0.571429</td>\n      <td>0.739130</td>\n      <td>0.641509</td>\n      <td>0.0</td>\n      <td>0.000000</td>\n      <td>0.413793</td>\n      <td>0.0</td>\n      <td>1.000000</td>\n      <td>0.56</td>\n    </tr>\n    <tr>\n      <th>1</th>\n      <td>1.0</td>\n      <td>0.002164</td>\n      <td>0.025408</td>\n      <td>0.027949</td>\n      <td>0.027949</td>\n      <td>0.066172</td>\n      <td>0.317389</td>\n      <td>0.953258</td>\n      <td>0.135600</td>\n      <td>1.0</td>\n      <td>0.272727</td>\n      <td>0.642857</td>\n      <td>0.695652</td>\n      <td>0.943396</td>\n      <td>1.0</td>\n      <td>0.272727</td>\n      <td>1.000000</td>\n      <td>1.0</td>\n      <td>0.363636</td>\n      <td>0.40</td>\n    </tr>\n    <tr>\n      <th>2</th>\n      <td>0.0</td>\n      <td>0.012982</td>\n      <td>0.006764</td>\n      <td>0.014204</td>\n      <td>0.012074</td>\n      <td>0.066847</td>\n      <td>0.507034</td>\n      <td>0.918687</td>\n      <td>0.236850</td>\n      <td>0.5</td>\n      <td>1.000000</td>\n      <td>0.428571</td>\n      <td>1.000000</td>\n      <td>1.000000</td>\n      <td>1.0</td>\n      <td>0.000000</td>\n      <td>0.344828</td>\n      <td>1.0</td>\n      <td>0.000000</td>\n      <td>1.00</td>\n    </tr>\n    <tr>\n      <th>3</th>\n      <td>1.0</td>\n      <td>0.001082</td>\n      <td>1.000000</td>\n      <td>1.000000</td>\n      <td>1.000000</td>\n      <td>0.000000</td>\n      <td>0.001688</td>\n      <td>0.000000</td>\n      <td>1.000000</td>\n      <td>0.5</td>\n      <td>0.272727</td>\n      <td>0.678571</td>\n      <td>0.478261</td>\n      <td>0.396226</td>\n      <td>0.0</td>\n      <td>0.363636</td>\n      <td>0.103448</td>\n      <td>0.5</td>\n      <td>0.636364</td>\n      <td>1.00</td>\n    </tr>\n    <tr>\n      <th>4</th>\n      <td>1.0</td>\n      <td>0.004688</td>\n      <td>0.000000</td>\n      <td>0.000000</td>\n      <td>0.000000</td>\n      <td>0.753545</td>\n      <td>0.768711</td>\n      <td>0.767106</td>\n      <td>0.444990</td>\n      <td>0.5</td>\n      <td>0.363636</td>\n      <td>0.250000</td>\n      <td>0.521739</td>\n      <td>0.867925</td>\n      <td>0.0</td>\n      <td>0.818182</td>\n      <td>0.379310</td>\n      <td>0.5</td>\n      <td>1.000000</td>\n      <td>1.00</td>\n    </tr>\n  </tbody>\n</table>\n</div>"
     },
     "execution_count": 15,
     "metadata": {},
     "output_type": "execute_result"
    }
   ],
   "source": [
    "data_n.drop(['click_through_rate'], axis=1, inplace=True)\n",
    "data_n.head()"
   ],
   "metadata": {
    "collapsed": false,
    "pycharm": {
     "name": "#%%\n"
    }
   }
  },
  {
   "cell_type": "code",
   "execution_count": 16,
   "outputs": [
    {
     "data": {
      "text/plain": "(33, 20)"
     },
     "execution_count": 16,
     "metadata": {},
     "output_type": "execute_result"
    }
   ],
   "source": [
    "data_n.values.tolist()\n",
    "target_n.tolist()\n",
    "x_train,x_test,y_train,y_test = train_test_split(data_n,target_n, test_size=0.2, random_state=4)\n",
    "x_train.shape"
   ],
   "metadata": {
    "collapsed": false,
    "pycharm": {
     "name": "#%%\n"
    }
   }
  },
  {
   "cell_type": "code",
   "execution_count": 17,
   "outputs": [],
   "source": [
    "x_train= np.array(x_train)\n",
    "y_train= np.array(y_train)\n",
    "\n",
    "x_train = x_train.reshape((1,33, 20))\n",
    "y_train = y_train.reshape((1,33, 1))\n",
    "\n",
    "x_test= np.array(x_test)\n",
    "y_test= np.array(y_test)\n",
    "\n",
    "x_test = x_test.reshape((1,9, 20))\n",
    "y_test = y_test.reshape((1,9, 1))"
   ],
   "metadata": {
    "collapsed": false,
    "pycharm": {
     "name": "#%%\n"
    }
   }
  },
  {
   "cell_type": "code",
   "execution_count": 18,
   "outputs": [
    {
     "name": "stderr",
     "output_type": "stream",
     "text": [
      "2022-08-10 16:15:27.067184: I tensorflow/core/platform/cpu_feature_guard.cc:193] This TensorFlow binary is optimized with oneAPI Deep Neural Network Library (oneDNN) to use the following CPU instructions in performance-critical operations:  AVX2 FMA\n",
      "To enable them in other operations, rebuild TensorFlow with the appropriate compiler flags.\n"
     ]
    }
   ],
   "source": [
    "model = Sequential()"
   ],
   "metadata": {
    "collapsed": false,
    "pycharm": {
     "name": "#%%\n"
    }
   }
  },
  {
   "cell_type": "code",
   "execution_count": 19,
   "outputs": [],
   "source": [
    "model.add(LSTM(16, input_shape=(x_train.shape[1], x_train.shape[2]),return_sequences=True))\n",
    "model.add(LSTM(1, return_sequences=False))\n",
    "model.add(Dense(1))\n",
    "\n",
    "model.compile(optimizer = 'adam', loss = 'mean_squared_error')"
   ],
   "metadata": {
    "collapsed": false,
    "pycharm": {
     "name": "#%%\n"
    }
   }
  },
  {
   "cell_type": "code",
   "execution_count": 20,
   "outputs": [
    {
     "name": "stdout",
     "output_type": "stream",
     "text": [
      "Model: \"sequential\"\n",
      "_________________________________________________________________\n",
      " Layer (type)                Output Shape              Param #   \n",
      "=================================================================\n",
      " lstm (LSTM)                 (None, 33, 16)            2368      \n",
      "                                                                 \n",
      " lstm_1 (LSTM)               (None, 1)                 72        \n",
      "                                                                 \n",
      " dense (Dense)               (None, 1)                 2         \n",
      "                                                                 \n",
      "=================================================================\n",
      "Total params: 2,442\n",
      "Trainable params: 2,442\n",
      "Non-trainable params: 0\n",
      "_________________________________________________________________\n"
     ]
    }
   ],
   "source": [
    "model.summary()"
   ],
   "metadata": {
    "collapsed": false,
    "pycharm": {
     "name": "#%%\n"
    }
   }
  },
  {
   "cell_type": "code",
   "execution_count": 22,
   "outputs": [
    {
     "name": "stdout",
     "output_type": "stream",
     "text": [
      "Epoch 1/50\n",
      "1/1 [==============================] - 0s 33ms/step - loss: 0.2057\n",
      "Epoch 2/50\n",
      "1/1 [==============================] - 0s 32ms/step - loss: 0.1629\n",
      "Epoch 3/50\n",
      "1/1 [==============================] - 0s 25ms/step - loss: 0.1269\n",
      "Epoch 4/50\n",
      "1/1 [==============================] - 0s 24ms/step - loss: 0.0996\n",
      "Epoch 5/50\n",
      "1/1 [==============================] - 0s 23ms/step - loss: 0.0810\n",
      "Epoch 6/50\n",
      "1/1 [==============================] - 0s 24ms/step - loss: 0.0694\n",
      "Epoch 7/50\n",
      "1/1 [==============================] - 0s 22ms/step - loss: 0.0624\n",
      "Epoch 8/50\n",
      "1/1 [==============================] - 0s 23ms/step - loss: 0.0582\n",
      "Epoch 9/50\n",
      "1/1 [==============================] - 0s 30ms/step - loss: 0.0558\n",
      "Epoch 10/50\n",
      "1/1 [==============================] - 0s 28ms/step - loss: 0.0543\n",
      "Epoch 11/50\n",
      "1/1 [==============================] - 0s 23ms/step - loss: 0.0533\n",
      "Epoch 12/50\n",
      "1/1 [==============================] - 0s 20ms/step - loss: 0.0528\n",
      "Epoch 13/50\n",
      "1/1 [==============================] - 0s 24ms/step - loss: 0.0524\n",
      "Epoch 14/50\n",
      "1/1 [==============================] - 0s 22ms/step - loss: 0.0523\n",
      "Epoch 15/50\n",
      "1/1 [==============================] - 0s 19ms/step - loss: 0.0522\n",
      "Epoch 16/50\n",
      "1/1 [==============================] - 0s 22ms/step - loss: 0.0521\n",
      "Epoch 17/50\n",
      "1/1 [==============================] - 0s 20ms/step - loss: 0.0521\n",
      "Epoch 18/50\n",
      "1/1 [==============================] - 0s 19ms/step - loss: 0.0521\n",
      "Epoch 19/50\n",
      "1/1 [==============================] - 0s 21ms/step - loss: 0.0522\n",
      "Epoch 20/50\n",
      "1/1 [==============================] - 0s 22ms/step - loss: 0.0522\n",
      "Epoch 21/50\n",
      "1/1 [==============================] - 0s 20ms/step - loss: 0.0522\n",
      "Epoch 22/50\n",
      "1/1 [==============================] - 0s 22ms/step - loss: 0.0523\n",
      "Epoch 23/50\n",
      "1/1 [==============================] - 0s 21ms/step - loss: 0.0523\n",
      "Epoch 24/50\n",
      "1/1 [==============================] - 0s 20ms/step - loss: 0.0523\n",
      "Epoch 25/50\n",
      "1/1 [==============================] - 0s 22ms/step - loss: 0.0524\n",
      "Epoch 26/50\n",
      "1/1 [==============================] - 0s 19ms/step - loss: 0.0524\n",
      "Epoch 27/50\n",
      "1/1 [==============================] - 0s 20ms/step - loss: 0.0524\n",
      "Epoch 28/50\n",
      "1/1 [==============================] - 0s 23ms/step - loss: 0.0524\n",
      "Epoch 29/50\n",
      "1/1 [==============================] - 0s 19ms/step - loss: 0.0524\n",
      "Epoch 30/50\n",
      "1/1 [==============================] - 0s 19ms/step - loss: 0.0523\n",
      "Epoch 31/50\n",
      "1/1 [==============================] - 0s 21ms/step - loss: 0.0523\n",
      "Epoch 32/50\n",
      "1/1 [==============================] - 0s 21ms/step - loss: 0.0523\n",
      "Epoch 33/50\n",
      "1/1 [==============================] - 0s 19ms/step - loss: 0.0523\n",
      "Epoch 34/50\n",
      "1/1 [==============================] - 0s 18ms/step - loss: 0.0522\n",
      "Epoch 35/50\n",
      "1/1 [==============================] - 0s 21ms/step - loss: 0.0522\n",
      "Epoch 36/50\n",
      "1/1 [==============================] - 0s 20ms/step - loss: 0.0522\n",
      "Epoch 37/50\n",
      "1/1 [==============================] - 0s 20ms/step - loss: 0.0522\n",
      "Epoch 38/50\n",
      "1/1 [==============================] - 0s 20ms/step - loss: 0.0522\n",
      "Epoch 39/50\n",
      "1/1 [==============================] - 0s 21ms/step - loss: 0.0521\n",
      "Epoch 40/50\n",
      "1/1 [==============================] - 0s 21ms/step - loss: 0.0521\n",
      "Epoch 41/50\n",
      "1/1 [==============================] - 0s 22ms/step - loss: 0.0521\n",
      "Epoch 42/50\n",
      "1/1 [==============================] - 0s 20ms/step - loss: 0.0521\n",
      "Epoch 43/50\n",
      "1/1 [==============================] - 0s 22ms/step - loss: 0.0521\n",
      "Epoch 44/50\n",
      "1/1 [==============================] - 0s 22ms/step - loss: 0.0521\n",
      "Epoch 45/50\n",
      "1/1 [==============================] - 0s 25ms/step - loss: 0.0521\n",
      "Epoch 46/50\n",
      "1/1 [==============================] - 0s 20ms/step - loss: 0.0521\n",
      "Epoch 47/50\n",
      "1/1 [==============================] - 0s 19ms/step - loss: 0.0521\n",
      "Epoch 48/50\n",
      "1/1 [==============================] - 0s 20ms/step - loss: 0.0521\n",
      "Epoch 49/50\n",
      "1/1 [==============================] - 0s 21ms/step - loss: 0.0521\n",
      "Epoch 50/50\n",
      "1/1 [==============================] - 0s 19ms/step - loss: 0.0521\n"
     ]
    }
   ],
   "source": [
    "history = model.fit(x_train, y_train, epochs=50, batch_size=32)"
   ],
   "metadata": {
    "collapsed": false,
    "pycharm": {
     "name": "#%%\n"
    }
   }
  },
  {
   "cell_type": "code",
   "execution_count": 24,
   "outputs": [
    {
     "name": "stdout",
     "output_type": "stream",
     "text": [
      "1/1 [==============================] - 1s 1s/step\n"
     ]
    },
    {
     "data": {
      "text/plain": "array([[0.30824724]], dtype=float32)"
     },
     "execution_count": 24,
     "metadata": {},
     "output_type": "execute_result"
    }
   ],
   "source": [
    "model.predict(x_train)"
   ],
   "metadata": {
    "collapsed": false,
    "pycharm": {
     "name": "#%%\n"
    }
   }
  },
  {
   "cell_type": "code",
   "execution_count": 25,
   "outputs": [
    {
     "name": "stdout",
     "output_type": "stream",
     "text": [
      "1/1 [==============================] - 1s 1s/step\n"
     ]
    }
   ],
   "source": [
    "results = model.predict(x_test)"
   ],
   "metadata": {
    "collapsed": false,
    "pycharm": {
     "name": "#%%\n"
    }
   }
  }
 ],
 "metadata": {
  "kernelspec": {
   "display_name": "Python 3",
   "language": "python",
   "name": "python3"
  },
  "language_info": {
   "codemirror_mode": {
    "name": "ipython",
    "version": 2
   },
   "file_extension": ".py",
   "mimetype": "text/x-python",
   "name": "python",
   "nbconvert_exporter": "python",
   "pygments_lexer": "ipython2",
   "version": "2.7.6"
  }
 },
 "nbformat": 4,
 "nbformat_minor": 0
}