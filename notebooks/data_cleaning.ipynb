{
 "cells": [
  {
   "cell_type": "markdown",
   "source": [
    "### Import Statements"
   ],
   "metadata": {
    "collapsed": false,
    "pycharm": {
     "name": "#%% md\n"
    }
   }
  },
  {
   "cell_type": "code",
   "execution_count": 1,
   "outputs": [],
   "source": [
    "import sys\n",
    "import os\n",
    "\n",
    "sys.path.append(os.path.abspath(os.path.join('..')))\n",
    "from scripts.load_data import PostgresDBUtils\n",
    "from scripts.data_cleaner import DataCleaner"
   ],
   "metadata": {
    "collapsed": false,
    "pycharm": {
     "name": "#%%\n"
    }
   }
  },
  {
   "cell_type": "code",
   "execution_count": 2,
   "outputs": [
    {
     "name": "stdout",
     "output_type": "stream",
     "text": [
      "423812 records fetched from ads_data_joined table\n"
     ]
    }
   ],
   "source": [
    "pgu = PostgresDBUtils()\n",
    "df = pgu.db_execute_fetch(table_name='ads_data_joined')"
   ],
   "metadata": {
    "collapsed": false,
    "pycharm": {
     "name": "#%%\n"
    }
   }
  },
  {
   "cell_type": "code",
   "execution_count": 3,
   "outputs": [
    {
     "data": {
      "text/plain": "  campaign_id                                campaign_name   submission_date  \\\n0     l5kk3r3  FACEBOOK_CONVERSATIONAL COMMERCE_2020_09_TH  18/06/2021 03:18   \n1     l5kk3r3  FACEBOOK_CONVERSATIONAL COMMERCE_2020_09_TH  18/06/2021 03:18   \n2     l5kk3r3  FACEBOOK_CONVERSATIONAL COMMERCE_2020_09_TH  18/06/2021 03:18   \n3     l5kk3r3  FACEBOOK_CONVERSATIONAL COMMERCE_2020_09_TH  18/06/2021 03:18   \n4     l5kk3r3  FACEBOOK_CONVERSATIONAL COMMERCE_2020_09_TH  18/06/2021 03:18   \n\n                                         description  \\\n0  Storyboard Due Date :\\r\\nAs determined by camp...   \n1  Storyboard Due Date :\\r\\nAs determined by camp...   \n2  Storyboard Due Date :\\r\\nAs determined by camp...   \n3  Storyboard Due Date :\\r\\nAs determined by camp...   \n4  Storyboard Due Date :\\r\\nAs determined by camp...   \n\n                                 campaign_objectives             kpis  \\\n0  Brand Awareness\\nProduct Awareness\\nMessage Re...  Engagement Rate   \n1  Brand Awareness\\nProduct Awareness\\nMessage Re...  Engagement Rate   \n2  Brand Awareness\\nProduct Awareness\\nMessage Re...  Engagement Rate   \n3  Brand Awareness\\nProduct Awareness\\nMessage Re...  Engagement Rate   \n4  Brand Awareness\\nProduct Awareness\\nMessage Re...  Engagement Rate   \n\n                                          placements  start_date    end_date  \\\n0  320x480 (Fullscreen mobile / interstitial)\\n30...  12/07/2021  08/09/2021   \n1  320x480 (Fullscreen mobile / interstitial)\\n30...  12/07/2021  08/09/2021   \n2  320x480 (Fullscreen mobile / interstitial)\\n30...  12/07/2021  08/09/2021   \n3  320x480 (Fullscreen mobile / interstitial)\\n30...  12/07/2021  08/09/2021   \n4  320x480 (Fullscreen mobile / interstitial)\\n30...  12/07/2021  08/09/2021   \n\n  serving_locations  ... platform_os device_type                     browser  \\\n0         Singapore  ...           6      Mobile                      Chrome   \n1         Singapore  ...           6      Mobile  Mobile Safari UI/WKWebView   \n2         Singapore  ...           6      Mobile               Chrome Mobile   \n3         Singapore  ...           6      Mobile               Mobile Safari   \n4         Singapore  ...           6      Mobile                      Chrome   \n\n  labels  text  colors  video_data eng_type  direction adunit_size  \n0   None  None    None        None     None       None        None  \n1   None  None    None        None     None       None        None  \n2   None  None    None        None     None       None        None  \n3   None  None    None        None     None       None        None  \n4   None  None    None        None     None       None        None  \n\n[5 rows x 40 columns]",
      "text/html": "<div>\n<style scoped>\n    .dataframe tbody tr th:only-of-type {\n        vertical-align: middle;\n    }\n\n    .dataframe tbody tr th {\n        vertical-align: top;\n    }\n\n    .dataframe thead th {\n        text-align: right;\n    }\n</style>\n<table border=\"1\" class=\"dataframe\">\n  <thead>\n    <tr style=\"text-align: right;\">\n      <th></th>\n      <th>campaign_id</th>\n      <th>campaign_name</th>\n      <th>submission_date</th>\n      <th>description</th>\n      <th>campaign_objectives</th>\n      <th>kpis</th>\n      <th>placements</th>\n      <th>start_date</th>\n      <th>end_date</th>\n      <th>serving_locations</th>\n      <th>...</th>\n      <th>platform_os</th>\n      <th>device_type</th>\n      <th>browser</th>\n      <th>labels</th>\n      <th>text</th>\n      <th>colors</th>\n      <th>video_data</th>\n      <th>eng_type</th>\n      <th>direction</th>\n      <th>adunit_size</th>\n    </tr>\n  </thead>\n  <tbody>\n    <tr>\n      <th>0</th>\n      <td>l5kk3r3</td>\n      <td>FACEBOOK_CONVERSATIONAL COMMERCE_2020_09_TH</td>\n      <td>18/06/2021 03:18</td>\n      <td>Storyboard Due Date :\\r\\nAs determined by camp...</td>\n      <td>Brand Awareness\\nProduct Awareness\\nMessage Re...</td>\n      <td>Engagement Rate</td>\n      <td>320x480 (Fullscreen mobile / interstitial)\\n30...</td>\n      <td>12/07/2021</td>\n      <td>08/09/2021</td>\n      <td>Singapore</td>\n      <td>...</td>\n      <td>6</td>\n      <td>Mobile</td>\n      <td>Chrome</td>\n      <td>None</td>\n      <td>None</td>\n      <td>None</td>\n      <td>None</td>\n      <td>None</td>\n      <td>None</td>\n      <td>None</td>\n    </tr>\n    <tr>\n      <th>1</th>\n      <td>l5kk3r3</td>\n      <td>FACEBOOK_CONVERSATIONAL COMMERCE_2020_09_TH</td>\n      <td>18/06/2021 03:18</td>\n      <td>Storyboard Due Date :\\r\\nAs determined by camp...</td>\n      <td>Brand Awareness\\nProduct Awareness\\nMessage Re...</td>\n      <td>Engagement Rate</td>\n      <td>320x480 (Fullscreen mobile / interstitial)\\n30...</td>\n      <td>12/07/2021</td>\n      <td>08/09/2021</td>\n      <td>Singapore</td>\n      <td>...</td>\n      <td>6</td>\n      <td>Mobile</td>\n      <td>Mobile Safari UI/WKWebView</td>\n      <td>None</td>\n      <td>None</td>\n      <td>None</td>\n      <td>None</td>\n      <td>None</td>\n      <td>None</td>\n      <td>None</td>\n    </tr>\n    <tr>\n      <th>2</th>\n      <td>l5kk3r3</td>\n      <td>FACEBOOK_CONVERSATIONAL COMMERCE_2020_09_TH</td>\n      <td>18/06/2021 03:18</td>\n      <td>Storyboard Due Date :\\r\\nAs determined by camp...</td>\n      <td>Brand Awareness\\nProduct Awareness\\nMessage Re...</td>\n      <td>Engagement Rate</td>\n      <td>320x480 (Fullscreen mobile / interstitial)\\n30...</td>\n      <td>12/07/2021</td>\n      <td>08/09/2021</td>\n      <td>Singapore</td>\n      <td>...</td>\n      <td>6</td>\n      <td>Mobile</td>\n      <td>Chrome Mobile</td>\n      <td>None</td>\n      <td>None</td>\n      <td>None</td>\n      <td>None</td>\n      <td>None</td>\n      <td>None</td>\n      <td>None</td>\n    </tr>\n    <tr>\n      <th>3</th>\n      <td>l5kk3r3</td>\n      <td>FACEBOOK_CONVERSATIONAL COMMERCE_2020_09_TH</td>\n      <td>18/06/2021 03:18</td>\n      <td>Storyboard Due Date :\\r\\nAs determined by camp...</td>\n      <td>Brand Awareness\\nProduct Awareness\\nMessage Re...</td>\n      <td>Engagement Rate</td>\n      <td>320x480 (Fullscreen mobile / interstitial)\\n30...</td>\n      <td>12/07/2021</td>\n      <td>08/09/2021</td>\n      <td>Singapore</td>\n      <td>...</td>\n      <td>6</td>\n      <td>Mobile</td>\n      <td>Mobile Safari</td>\n      <td>None</td>\n      <td>None</td>\n      <td>None</td>\n      <td>None</td>\n      <td>None</td>\n      <td>None</td>\n      <td>None</td>\n    </tr>\n    <tr>\n      <th>4</th>\n      <td>l5kk3r3</td>\n      <td>FACEBOOK_CONVERSATIONAL COMMERCE_2020_09_TH</td>\n      <td>18/06/2021 03:18</td>\n      <td>Storyboard Due Date :\\r\\nAs determined by camp...</td>\n      <td>Brand Awareness\\nProduct Awareness\\nMessage Re...</td>\n      <td>Engagement Rate</td>\n      <td>320x480 (Fullscreen mobile / interstitial)\\n30...</td>\n      <td>12/07/2021</td>\n      <td>08/09/2021</td>\n      <td>Singapore</td>\n      <td>...</td>\n      <td>6</td>\n      <td>Mobile</td>\n      <td>Chrome</td>\n      <td>None</td>\n      <td>None</td>\n      <td>None</td>\n      <td>None</td>\n      <td>None</td>\n      <td>None</td>\n      <td>None</td>\n    </tr>\n  </tbody>\n</table>\n<p>5 rows × 40 columns</p>\n</div>"
     },
     "execution_count": 3,
     "metadata": {},
     "output_type": "execute_result"
    }
   ],
   "source": [
    "df.head()"
   ],
   "metadata": {
    "collapsed": false,
    "pycharm": {
     "name": "#%%\n"
    }
   }
  },
  {
   "cell_type": "code",
   "execution_count": 10,
   "outputs": [
    {
     "name": "stdout",
     "output_type": "stream",
     "text": [
      "22.71 % missing values.\n"
     ]
    }
   ],
   "source": [
    "# missing values percentage\n",
    "data_cleaner = DataCleaner()\n",
    "data_cleaner.percent_missing(df)"
   ],
   "metadata": {
    "collapsed": false,
    "pycharm": {
     "name": "#%%\n"
    }
   }
  },
  {
   "cell_type": "code",
   "execution_count": 11,
   "metadata": {
    "collapsed": true,
    "pycharm": {
     "name": "#%%\n"
    }
   },
   "outputs": [
    {
     "data": {
      "text/plain": "                           column_name  percent_missing\n0                          campaign_id         0.232178\n1                        campaign_name         0.232178\n2                      submission_date         0.232178\n3                          description         0.232178\n4                  campaign_objectives         0.232178\n5                                 kpis         0.232178\n6                           placements         0.232178\n7                           start_date         0.232178\n8                             end_date         0.232178\n9                    serving_locations         0.232178\n10  black_white_audience_list_included         0.232178\n11               delivery_requirements        88.190754\n12                         cost_centre         0.232178\n13                            currency         0.232178\n14                            buy_rate         2.715591\n15                       volume_agreed         2.715591\n16                          gross_cost         2.714175\n17                          agency_fee         0.233358\n18                          percentage         7.379215\n19                            flat_fee       100.000000\n20                            net_cost         0.233358\n21                                type         0.240909\n22                               width         0.242088\n23                              height         0.241381\n24                         creative_id         0.240909\n25                          auction_id         0.240909\n26                          browser_ts         0.240909\n27                            game_key         0.240909\n28                         geo_country         0.242088\n29                           site_name         0.240909\n30                         platform_os         0.240909\n31                         device_type         0.242324\n32                             browser         0.244920\n33                              labels        99.739743\n34                                text        99.739743\n35                              colors        99.739743\n36                          video_data        99.739743\n37                            eng_type        99.826574\n38                           direction        99.826574\n39                         adunit_size        99.872585",
      "text/html": "<div>\n<style scoped>\n    .dataframe tbody tr th:only-of-type {\n        vertical-align: middle;\n    }\n\n    .dataframe tbody tr th {\n        vertical-align: top;\n    }\n\n    .dataframe thead th {\n        text-align: right;\n    }\n</style>\n<table border=\"1\" class=\"dataframe\">\n  <thead>\n    <tr style=\"text-align: right;\">\n      <th></th>\n      <th>column_name</th>\n      <th>percent_missing</th>\n    </tr>\n  </thead>\n  <tbody>\n    <tr>\n      <th>0</th>\n      <td>campaign_id</td>\n      <td>0.232178</td>\n    </tr>\n    <tr>\n      <th>1</th>\n      <td>campaign_name</td>\n      <td>0.232178</td>\n    </tr>\n    <tr>\n      <th>2</th>\n      <td>submission_date</td>\n      <td>0.232178</td>\n    </tr>\n    <tr>\n      <th>3</th>\n      <td>description</td>\n      <td>0.232178</td>\n    </tr>\n    <tr>\n      <th>4</th>\n      <td>campaign_objectives</td>\n      <td>0.232178</td>\n    </tr>\n    <tr>\n      <th>5</th>\n      <td>kpis</td>\n      <td>0.232178</td>\n    </tr>\n    <tr>\n      <th>6</th>\n      <td>placements</td>\n      <td>0.232178</td>\n    </tr>\n    <tr>\n      <th>7</th>\n      <td>start_date</td>\n      <td>0.232178</td>\n    </tr>\n    <tr>\n      <th>8</th>\n      <td>end_date</td>\n      <td>0.232178</td>\n    </tr>\n    <tr>\n      <th>9</th>\n      <td>serving_locations</td>\n      <td>0.232178</td>\n    </tr>\n    <tr>\n      <th>10</th>\n      <td>black_white_audience_list_included</td>\n      <td>0.232178</td>\n    </tr>\n    <tr>\n      <th>11</th>\n      <td>delivery_requirements</td>\n      <td>88.190754</td>\n    </tr>\n    <tr>\n      <th>12</th>\n      <td>cost_centre</td>\n      <td>0.232178</td>\n    </tr>\n    <tr>\n      <th>13</th>\n      <td>currency</td>\n      <td>0.232178</td>\n    </tr>\n    <tr>\n      <th>14</th>\n      <td>buy_rate</td>\n      <td>2.715591</td>\n    </tr>\n    <tr>\n      <th>15</th>\n      <td>volume_agreed</td>\n      <td>2.715591</td>\n    </tr>\n    <tr>\n      <th>16</th>\n      <td>gross_cost</td>\n      <td>2.714175</td>\n    </tr>\n    <tr>\n      <th>17</th>\n      <td>agency_fee</td>\n      <td>0.233358</td>\n    </tr>\n    <tr>\n      <th>18</th>\n      <td>percentage</td>\n      <td>7.379215</td>\n    </tr>\n    <tr>\n      <th>19</th>\n      <td>flat_fee</td>\n      <td>100.000000</td>\n    </tr>\n    <tr>\n      <th>20</th>\n      <td>net_cost</td>\n      <td>0.233358</td>\n    </tr>\n    <tr>\n      <th>21</th>\n      <td>type</td>\n      <td>0.240909</td>\n    </tr>\n    <tr>\n      <th>22</th>\n      <td>width</td>\n      <td>0.242088</td>\n    </tr>\n    <tr>\n      <th>23</th>\n      <td>height</td>\n      <td>0.241381</td>\n    </tr>\n    <tr>\n      <th>24</th>\n      <td>creative_id</td>\n      <td>0.240909</td>\n    </tr>\n    <tr>\n      <th>25</th>\n      <td>auction_id</td>\n      <td>0.240909</td>\n    </tr>\n    <tr>\n      <th>26</th>\n      <td>browser_ts</td>\n      <td>0.240909</td>\n    </tr>\n    <tr>\n      <th>27</th>\n      <td>game_key</td>\n      <td>0.240909</td>\n    </tr>\n    <tr>\n      <th>28</th>\n      <td>geo_country</td>\n      <td>0.242088</td>\n    </tr>\n    <tr>\n      <th>29</th>\n      <td>site_name</td>\n      <td>0.240909</td>\n    </tr>\n    <tr>\n      <th>30</th>\n      <td>platform_os</td>\n      <td>0.240909</td>\n    </tr>\n    <tr>\n      <th>31</th>\n      <td>device_type</td>\n      <td>0.242324</td>\n    </tr>\n    <tr>\n      <th>32</th>\n      <td>browser</td>\n      <td>0.244920</td>\n    </tr>\n    <tr>\n      <th>33</th>\n      <td>labels</td>\n      <td>99.739743</td>\n    </tr>\n    <tr>\n      <th>34</th>\n      <td>text</td>\n      <td>99.739743</td>\n    </tr>\n    <tr>\n      <th>35</th>\n      <td>colors</td>\n      <td>99.739743</td>\n    </tr>\n    <tr>\n      <th>36</th>\n      <td>video_data</td>\n      <td>99.739743</td>\n    </tr>\n    <tr>\n      <th>37</th>\n      <td>eng_type</td>\n      <td>99.826574</td>\n    </tr>\n    <tr>\n      <th>38</th>\n      <td>direction</td>\n      <td>99.826574</td>\n    </tr>\n    <tr>\n      <th>39</th>\n      <td>adunit_size</td>\n      <td>99.872585</td>\n    </tr>\n  </tbody>\n</table>\n</div>"
     },
     "execution_count": 11,
     "metadata": {},
     "output_type": "execute_result"
    }
   ],
   "source": [
    "# get the percentage missing by column\n",
    "data_cleaner.missing_percentage(df)"
   ]
  },
  {
   "cell_type": "code",
   "execution_count": 12,
   "outputs": [
    {
     "name": "stdout",
     "output_type": "stream",
     "text": [
      "Your selected dataframe has 40 columns.\n",
      "There are 40 columns that have missing values.\n"
     ]
    },
    {
     "data": {
      "text/plain": "                                    Missing Values  % of Total Values    Dtype\nflat_fee                                    423812              100.0   object\nadunit_size                                 423272               99.9   object\ndirection                                   423077               99.8   object\neng_type                                    423077               99.8   object\nvideo_data                                  422709               99.7   object\ncolors                                      422709               99.7   object\ntext                                        422709               99.7   object\nlabels                                      422709               99.7   object\ndelivery_requirements                       373763               88.2   object\npercentage                                   31274                7.4  float64\nbuy_rate                                     11509                2.7  float64\nvolume_agreed                                11509                2.7  float64\ngross_cost                                   11503                2.7  float64\nbrowser                                       1038                0.2   object\ndevice_type                                   1027                0.2   object\nwidth                                         1026                0.2   object\ngeo_country                                   1026                0.2   object\nheight                                        1023                0.2   object\nbrowser_ts                                    1021                0.2   object\ntype                                          1021                0.2   object\nsite_name                                     1021                0.2   object\ngame_key                                      1021                0.2   object\nauction_id                                    1021                0.2   object\nplatform_os                                   1021                0.2   object\ncreative_id                                   1021                0.2   object\nnet_cost                                       989                0.2  float64\nagency_fee                                     989                0.2   object\ncampaign_name                                  984                0.2   object\ncurrency                                       984                0.2   object\ncost_centre                                    984                0.2   object\nblack_white_audience_list_included             984                0.2   object\nserving_locations                              984                0.2   object\nend_date                                       984                0.2   object\nstart_date                                     984                0.2   object\nplacements                                     984                0.2   object\nkpis                                           984                0.2   object\ncampaign_objectives                            984                0.2   object\ndescription                                    984                0.2   object\nsubmission_date                                984                0.2   object\ncampaign_id                                    984                0.2   object",
      "text/html": "<div>\n<style scoped>\n    .dataframe tbody tr th:only-of-type {\n        vertical-align: middle;\n    }\n\n    .dataframe tbody tr th {\n        vertical-align: top;\n    }\n\n    .dataframe thead th {\n        text-align: right;\n    }\n</style>\n<table border=\"1\" class=\"dataframe\">\n  <thead>\n    <tr style=\"text-align: right;\">\n      <th></th>\n      <th>Missing Values</th>\n      <th>% of Total Values</th>\n      <th>Dtype</th>\n    </tr>\n  </thead>\n  <tbody>\n    <tr>\n      <th>flat_fee</th>\n      <td>423812</td>\n      <td>100.0</td>\n      <td>object</td>\n    </tr>\n    <tr>\n      <th>adunit_size</th>\n      <td>423272</td>\n      <td>99.9</td>\n      <td>object</td>\n    </tr>\n    <tr>\n      <th>direction</th>\n      <td>423077</td>\n      <td>99.8</td>\n      <td>object</td>\n    </tr>\n    <tr>\n      <th>eng_type</th>\n      <td>423077</td>\n      <td>99.8</td>\n      <td>object</td>\n    </tr>\n    <tr>\n      <th>video_data</th>\n      <td>422709</td>\n      <td>99.7</td>\n      <td>object</td>\n    </tr>\n    <tr>\n      <th>colors</th>\n      <td>422709</td>\n      <td>99.7</td>\n      <td>object</td>\n    </tr>\n    <tr>\n      <th>text</th>\n      <td>422709</td>\n      <td>99.7</td>\n      <td>object</td>\n    </tr>\n    <tr>\n      <th>labels</th>\n      <td>422709</td>\n      <td>99.7</td>\n      <td>object</td>\n    </tr>\n    <tr>\n      <th>delivery_requirements</th>\n      <td>373763</td>\n      <td>88.2</td>\n      <td>object</td>\n    </tr>\n    <tr>\n      <th>percentage</th>\n      <td>31274</td>\n      <td>7.4</td>\n      <td>float64</td>\n    </tr>\n    <tr>\n      <th>buy_rate</th>\n      <td>11509</td>\n      <td>2.7</td>\n      <td>float64</td>\n    </tr>\n    <tr>\n      <th>volume_agreed</th>\n      <td>11509</td>\n      <td>2.7</td>\n      <td>float64</td>\n    </tr>\n    <tr>\n      <th>gross_cost</th>\n      <td>11503</td>\n      <td>2.7</td>\n      <td>float64</td>\n    </tr>\n    <tr>\n      <th>browser</th>\n      <td>1038</td>\n      <td>0.2</td>\n      <td>object</td>\n    </tr>\n    <tr>\n      <th>device_type</th>\n      <td>1027</td>\n      <td>0.2</td>\n      <td>object</td>\n    </tr>\n    <tr>\n      <th>width</th>\n      <td>1026</td>\n      <td>0.2</td>\n      <td>object</td>\n    </tr>\n    <tr>\n      <th>geo_country</th>\n      <td>1026</td>\n      <td>0.2</td>\n      <td>object</td>\n    </tr>\n    <tr>\n      <th>height</th>\n      <td>1023</td>\n      <td>0.2</td>\n      <td>object</td>\n    </tr>\n    <tr>\n      <th>browser_ts</th>\n      <td>1021</td>\n      <td>0.2</td>\n      <td>object</td>\n    </tr>\n    <tr>\n      <th>type</th>\n      <td>1021</td>\n      <td>0.2</td>\n      <td>object</td>\n    </tr>\n    <tr>\n      <th>site_name</th>\n      <td>1021</td>\n      <td>0.2</td>\n      <td>object</td>\n    </tr>\n    <tr>\n      <th>game_key</th>\n      <td>1021</td>\n      <td>0.2</td>\n      <td>object</td>\n    </tr>\n    <tr>\n      <th>auction_id</th>\n      <td>1021</td>\n      <td>0.2</td>\n      <td>object</td>\n    </tr>\n    <tr>\n      <th>platform_os</th>\n      <td>1021</td>\n      <td>0.2</td>\n      <td>object</td>\n    </tr>\n    <tr>\n      <th>creative_id</th>\n      <td>1021</td>\n      <td>0.2</td>\n      <td>object</td>\n    </tr>\n    <tr>\n      <th>net_cost</th>\n      <td>989</td>\n      <td>0.2</td>\n      <td>float64</td>\n    </tr>\n    <tr>\n      <th>agency_fee</th>\n      <td>989</td>\n      <td>0.2</td>\n      <td>object</td>\n    </tr>\n    <tr>\n      <th>campaign_name</th>\n      <td>984</td>\n      <td>0.2</td>\n      <td>object</td>\n    </tr>\n    <tr>\n      <th>currency</th>\n      <td>984</td>\n      <td>0.2</td>\n      <td>object</td>\n    </tr>\n    <tr>\n      <th>cost_centre</th>\n      <td>984</td>\n      <td>0.2</td>\n      <td>object</td>\n    </tr>\n    <tr>\n      <th>black_white_audience_list_included</th>\n      <td>984</td>\n      <td>0.2</td>\n      <td>object</td>\n    </tr>\n    <tr>\n      <th>serving_locations</th>\n      <td>984</td>\n      <td>0.2</td>\n      <td>object</td>\n    </tr>\n    <tr>\n      <th>end_date</th>\n      <td>984</td>\n      <td>0.2</td>\n      <td>object</td>\n    </tr>\n    <tr>\n      <th>start_date</th>\n      <td>984</td>\n      <td>0.2</td>\n      <td>object</td>\n    </tr>\n    <tr>\n      <th>placements</th>\n      <td>984</td>\n      <td>0.2</td>\n      <td>object</td>\n    </tr>\n    <tr>\n      <th>kpis</th>\n      <td>984</td>\n      <td>0.2</td>\n      <td>object</td>\n    </tr>\n    <tr>\n      <th>campaign_objectives</th>\n      <td>984</td>\n      <td>0.2</td>\n      <td>object</td>\n    </tr>\n    <tr>\n      <th>description</th>\n      <td>984</td>\n      <td>0.2</td>\n      <td>object</td>\n    </tr>\n    <tr>\n      <th>submission_date</th>\n      <td>984</td>\n      <td>0.2</td>\n      <td>object</td>\n    </tr>\n    <tr>\n      <th>campaign_id</th>\n      <td>984</td>\n      <td>0.2</td>\n      <td>object</td>\n    </tr>\n  </tbody>\n</table>\n</div>"
     },
     "execution_count": 12,
     "metadata": {},
     "output_type": "execute_result"
    }
   ],
   "source": [
    "# missing values table\n",
    "data_cleaner.missing_values_table(df)"
   ],
   "metadata": {
    "collapsed": false,
    "pycharm": {
     "name": "#%%\n"
    }
   }
  },
  {
   "cell_type": "markdown",
   "source": [
    "### Data Cleaning"
   ],
   "metadata": {
    "collapsed": false,
    "pycharm": {
     "name": "#%% md\n"
    }
   }
  },
  {
   "cell_type": "code",
   "execution_count": 13,
   "outputs": [],
   "source": [
    "# remove columns with high percentage of missing values\n",
    "clean_df = data_cleaner.remove_unwanted_columns(df, ['flat_fee', 'adunit_size', 'direction', 'eng_type', 'video_data', 'colors', 'text', 'labels', 'delivery_requirements'])"
   ],
   "metadata": {
    "collapsed": false,
    "pycharm": {
     "name": "#%%\n"
    }
   }
  },
  {
   "cell_type": "code",
   "execution_count": 15,
   "outputs": [
    {
     "data": {
      "text/plain": "  campaign_id                                campaign_name   submission_date  \\\n0     l5kk3r3  FACEBOOK_CONVERSATIONAL COMMERCE_2020_09_TH  18/06/2021 03:18   \n1     l5kk3r3  FACEBOOK_CONVERSATIONAL COMMERCE_2020_09_TH  18/06/2021 03:18   \n2     l5kk3r3  FACEBOOK_CONVERSATIONAL COMMERCE_2020_09_TH  18/06/2021 03:18   \n3     l5kk3r3  FACEBOOK_CONVERSATIONAL COMMERCE_2020_09_TH  18/06/2021 03:18   \n4     l5kk3r3  FACEBOOK_CONVERSATIONAL COMMERCE_2020_09_TH  18/06/2021 03:18   \n\n                                         description  \\\n0  Storyboard Due Date :\\r\\nAs determined by camp...   \n1  Storyboard Due Date :\\r\\nAs determined by camp...   \n2  Storyboard Due Date :\\r\\nAs determined by camp...   \n3  Storyboard Due Date :\\r\\nAs determined by camp...   \n4  Storyboard Due Date :\\r\\nAs determined by camp...   \n\n                                 campaign_objectives             kpis  \\\n0  Brand Awareness\\nProduct Awareness\\nMessage Re...  Engagement Rate   \n1  Brand Awareness\\nProduct Awareness\\nMessage Re...  Engagement Rate   \n2  Brand Awareness\\nProduct Awareness\\nMessage Re...  Engagement Rate   \n3  Brand Awareness\\nProduct Awareness\\nMessage Re...  Engagement Rate   \n4  Brand Awareness\\nProduct Awareness\\nMessage Re...  Engagement Rate   \n\n                                          placements  start_date    end_date  \\\n0  320x480 (Fullscreen mobile / interstitial)\\n30...  12/07/2021  08/09/2021   \n1  320x480 (Fullscreen mobile / interstitial)\\n30...  12/07/2021  08/09/2021   \n2  320x480 (Fullscreen mobile / interstitial)\\n30...  12/07/2021  08/09/2021   \n3  320x480 (Fullscreen mobile / interstitial)\\n30...  12/07/2021  08/09/2021   \n4  320x480 (Fullscreen mobile / interstitial)\\n30...  12/07/2021  08/09/2021   \n\n  serving_locations  ... height creative_id  \\\n0         Singapore  ...      %    x83byc8a   \n1         Singapore  ...      %    x83byc8a   \n2         Singapore  ...      %    tf2htrrm   \n3         Singapore  ...      %    x83byc8a   \n4         Singapore  ...      %    x83byc8a   \n\n                             auction_id                browser_ts  \\\n0  fd74243f-6606-4830-a0ef-dd12f66ec6f5  2021-01-01T19:55:20.291Z   \n1  fd74243f-6606-4830-a0ef-dd12f66ec6f5  2021-01-01T19:55:20.298Z   \n2  b3af878b-fd1a-4c6f-91a2-4e3670d2fda5  2021-01-05T00:21:39.693Z   \n3  b7c22590-e784-43cf-874d-a661ad99601f  2021-01-06T09:30:44.188Z   \n4  b7c22590-e784-43cf-874d-a661ad99601f  2021-01-06T09:30:45.047Z   \n\n                                            game_key  geo_country  \\\n0  adunit-facebook-conversational-commerce-phase-...     Thailand   \n1  adunit-facebook-conversational-commerce-phase-...     Thailand   \n2  adunit-facebook-conversational-commerce-phase-...     Thailand   \n3  adunit-facebook-conversational-commerce-phase-...     Thailand   \n4  adunit-facebook-conversational-commerce-phase-...     Thailand   \n\n            site_name  platform_os  device_type                     browser  \n0  www.wuxiaworld.com            6       Mobile                      Chrome  \n1  www.wuxiaworld.com            6       Mobile  Mobile Safari UI/WKWebView  \n2  www.prachachat.net            6       Mobile               Chrome Mobile  \n3  www.prachachat.net            6       Mobile               Mobile Safari  \n4  www.prachachat.net            6       Mobile                      Chrome  \n\n[5 rows x 31 columns]",
      "text/html": "<div>\n<style scoped>\n    .dataframe tbody tr th:only-of-type {\n        vertical-align: middle;\n    }\n\n    .dataframe tbody tr th {\n        vertical-align: top;\n    }\n\n    .dataframe thead th {\n        text-align: right;\n    }\n</style>\n<table border=\"1\" class=\"dataframe\">\n  <thead>\n    <tr style=\"text-align: right;\">\n      <th></th>\n      <th>campaign_id</th>\n      <th>campaign_name</th>\n      <th>submission_date</th>\n      <th>description</th>\n      <th>campaign_objectives</th>\n      <th>kpis</th>\n      <th>placements</th>\n      <th>start_date</th>\n      <th>end_date</th>\n      <th>serving_locations</th>\n      <th>...</th>\n      <th>height</th>\n      <th>creative_id</th>\n      <th>auction_id</th>\n      <th>browser_ts</th>\n      <th>game_key</th>\n      <th>geo_country</th>\n      <th>site_name</th>\n      <th>platform_os</th>\n      <th>device_type</th>\n      <th>browser</th>\n    </tr>\n  </thead>\n  <tbody>\n    <tr>\n      <th>0</th>\n      <td>l5kk3r3</td>\n      <td>FACEBOOK_CONVERSATIONAL COMMERCE_2020_09_TH</td>\n      <td>18/06/2021 03:18</td>\n      <td>Storyboard Due Date :\\r\\nAs determined by camp...</td>\n      <td>Brand Awareness\\nProduct Awareness\\nMessage Re...</td>\n      <td>Engagement Rate</td>\n      <td>320x480 (Fullscreen mobile / interstitial)\\n30...</td>\n      <td>12/07/2021</td>\n      <td>08/09/2021</td>\n      <td>Singapore</td>\n      <td>...</td>\n      <td>%</td>\n      <td>x83byc8a</td>\n      <td>fd74243f-6606-4830-a0ef-dd12f66ec6f5</td>\n      <td>2021-01-01T19:55:20.291Z</td>\n      <td>adunit-facebook-conversational-commerce-phase-...</td>\n      <td>Thailand</td>\n      <td>www.wuxiaworld.com</td>\n      <td>6</td>\n      <td>Mobile</td>\n      <td>Chrome</td>\n    </tr>\n    <tr>\n      <th>1</th>\n      <td>l5kk3r3</td>\n      <td>FACEBOOK_CONVERSATIONAL COMMERCE_2020_09_TH</td>\n      <td>18/06/2021 03:18</td>\n      <td>Storyboard Due Date :\\r\\nAs determined by camp...</td>\n      <td>Brand Awareness\\nProduct Awareness\\nMessage Re...</td>\n      <td>Engagement Rate</td>\n      <td>320x480 (Fullscreen mobile / interstitial)\\n30...</td>\n      <td>12/07/2021</td>\n      <td>08/09/2021</td>\n      <td>Singapore</td>\n      <td>...</td>\n      <td>%</td>\n      <td>x83byc8a</td>\n      <td>fd74243f-6606-4830-a0ef-dd12f66ec6f5</td>\n      <td>2021-01-01T19:55:20.298Z</td>\n      <td>adunit-facebook-conversational-commerce-phase-...</td>\n      <td>Thailand</td>\n      <td>www.wuxiaworld.com</td>\n      <td>6</td>\n      <td>Mobile</td>\n      <td>Mobile Safari UI/WKWebView</td>\n    </tr>\n    <tr>\n      <th>2</th>\n      <td>l5kk3r3</td>\n      <td>FACEBOOK_CONVERSATIONAL COMMERCE_2020_09_TH</td>\n      <td>18/06/2021 03:18</td>\n      <td>Storyboard Due Date :\\r\\nAs determined by camp...</td>\n      <td>Brand Awareness\\nProduct Awareness\\nMessage Re...</td>\n      <td>Engagement Rate</td>\n      <td>320x480 (Fullscreen mobile / interstitial)\\n30...</td>\n      <td>12/07/2021</td>\n      <td>08/09/2021</td>\n      <td>Singapore</td>\n      <td>...</td>\n      <td>%</td>\n      <td>tf2htrrm</td>\n      <td>b3af878b-fd1a-4c6f-91a2-4e3670d2fda5</td>\n      <td>2021-01-05T00:21:39.693Z</td>\n      <td>adunit-facebook-conversational-commerce-phase-...</td>\n      <td>Thailand</td>\n      <td>www.prachachat.net</td>\n      <td>6</td>\n      <td>Mobile</td>\n      <td>Chrome Mobile</td>\n    </tr>\n    <tr>\n      <th>3</th>\n      <td>l5kk3r3</td>\n      <td>FACEBOOK_CONVERSATIONAL COMMERCE_2020_09_TH</td>\n      <td>18/06/2021 03:18</td>\n      <td>Storyboard Due Date :\\r\\nAs determined by camp...</td>\n      <td>Brand Awareness\\nProduct Awareness\\nMessage Re...</td>\n      <td>Engagement Rate</td>\n      <td>320x480 (Fullscreen mobile / interstitial)\\n30...</td>\n      <td>12/07/2021</td>\n      <td>08/09/2021</td>\n      <td>Singapore</td>\n      <td>...</td>\n      <td>%</td>\n      <td>x83byc8a</td>\n      <td>b7c22590-e784-43cf-874d-a661ad99601f</td>\n      <td>2021-01-06T09:30:44.188Z</td>\n      <td>adunit-facebook-conversational-commerce-phase-...</td>\n      <td>Thailand</td>\n      <td>www.prachachat.net</td>\n      <td>6</td>\n      <td>Mobile</td>\n      <td>Mobile Safari</td>\n    </tr>\n    <tr>\n      <th>4</th>\n      <td>l5kk3r3</td>\n      <td>FACEBOOK_CONVERSATIONAL COMMERCE_2020_09_TH</td>\n      <td>18/06/2021 03:18</td>\n      <td>Storyboard Due Date :\\r\\nAs determined by camp...</td>\n      <td>Brand Awareness\\nProduct Awareness\\nMessage Re...</td>\n      <td>Engagement Rate</td>\n      <td>320x480 (Fullscreen mobile / interstitial)\\n30...</td>\n      <td>12/07/2021</td>\n      <td>08/09/2021</td>\n      <td>Singapore</td>\n      <td>...</td>\n      <td>%</td>\n      <td>x83byc8a</td>\n      <td>b7c22590-e784-43cf-874d-a661ad99601f</td>\n      <td>2021-01-06T09:30:45.047Z</td>\n      <td>adunit-facebook-conversational-commerce-phase-...</td>\n      <td>Thailand</td>\n      <td>www.prachachat.net</td>\n      <td>6</td>\n      <td>Mobile</td>\n      <td>Chrome</td>\n    </tr>\n  </tbody>\n</table>\n<p>5 rows × 31 columns</p>\n</div>"
     },
     "execution_count": 15,
     "metadata": {},
     "output_type": "execute_result"
    }
   ],
   "source": [
    "clean_df.head()"
   ],
   "metadata": {
    "collapsed": false,
    "pycharm": {
     "name": "#%%\n"
    }
   }
  },
  {
   "cell_type": "code",
   "execution_count": 17,
   "outputs": [
    {
     "name": "stdout",
     "output_type": "stream",
     "text": [
      "0.71 % missing values.\n"
     ]
    }
   ],
   "source": [
    "# missing values percentage of the cleaned\n",
    "data_cleaner.percent_missing(clean_df)"
   ],
   "metadata": {
    "collapsed": false,
    "pycharm": {
     "name": "#%%\n"
    }
   }
  },
  {
   "cell_type": "code",
   "execution_count": 18,
   "outputs": [
    {
     "data": {
      "text/plain": "                           column_name  percent_missing\n0                          campaign_id         0.232178\n1                        campaign_name         0.232178\n2                      submission_date         0.232178\n3                          description         0.232178\n4                  campaign_objectives         0.232178\n5                                 kpis         0.232178\n6                           placements         0.232178\n7                           start_date         0.232178\n8                             end_date         0.232178\n9                    serving_locations         0.232178\n10  black_white_audience_list_included         0.232178\n11                         cost_centre         0.232178\n12                            currency         0.232178\n13                            buy_rate         2.715591\n14                       volume_agreed         2.715591\n15                          gross_cost         2.714175\n16                          agency_fee         0.233358\n17                          percentage         7.379215\n18                            net_cost         0.233358\n19                                type         0.240909\n20                               width         0.242088\n21                              height         0.241381\n22                         creative_id         0.240909\n23                          auction_id         0.240909\n24                          browser_ts         0.240909\n25                            game_key         0.240909\n26                         geo_country         0.242088\n27                           site_name         0.240909\n28                         platform_os         0.240909\n29                         device_type         0.242324\n30                             browser         0.244920",
      "text/html": "<div>\n<style scoped>\n    .dataframe tbody tr th:only-of-type {\n        vertical-align: middle;\n    }\n\n    .dataframe tbody tr th {\n        vertical-align: top;\n    }\n\n    .dataframe thead th {\n        text-align: right;\n    }\n</style>\n<table border=\"1\" class=\"dataframe\">\n  <thead>\n    <tr style=\"text-align: right;\">\n      <th></th>\n      <th>column_name</th>\n      <th>percent_missing</th>\n    </tr>\n  </thead>\n  <tbody>\n    <tr>\n      <th>0</th>\n      <td>campaign_id</td>\n      <td>0.232178</td>\n    </tr>\n    <tr>\n      <th>1</th>\n      <td>campaign_name</td>\n      <td>0.232178</td>\n    </tr>\n    <tr>\n      <th>2</th>\n      <td>submission_date</td>\n      <td>0.232178</td>\n    </tr>\n    <tr>\n      <th>3</th>\n      <td>description</td>\n      <td>0.232178</td>\n    </tr>\n    <tr>\n      <th>4</th>\n      <td>campaign_objectives</td>\n      <td>0.232178</td>\n    </tr>\n    <tr>\n      <th>5</th>\n      <td>kpis</td>\n      <td>0.232178</td>\n    </tr>\n    <tr>\n      <th>6</th>\n      <td>placements</td>\n      <td>0.232178</td>\n    </tr>\n    <tr>\n      <th>7</th>\n      <td>start_date</td>\n      <td>0.232178</td>\n    </tr>\n    <tr>\n      <th>8</th>\n      <td>end_date</td>\n      <td>0.232178</td>\n    </tr>\n    <tr>\n      <th>9</th>\n      <td>serving_locations</td>\n      <td>0.232178</td>\n    </tr>\n    <tr>\n      <th>10</th>\n      <td>black_white_audience_list_included</td>\n      <td>0.232178</td>\n    </tr>\n    <tr>\n      <th>11</th>\n      <td>cost_centre</td>\n      <td>0.232178</td>\n    </tr>\n    <tr>\n      <th>12</th>\n      <td>currency</td>\n      <td>0.232178</td>\n    </tr>\n    <tr>\n      <th>13</th>\n      <td>buy_rate</td>\n      <td>2.715591</td>\n    </tr>\n    <tr>\n      <th>14</th>\n      <td>volume_agreed</td>\n      <td>2.715591</td>\n    </tr>\n    <tr>\n      <th>15</th>\n      <td>gross_cost</td>\n      <td>2.714175</td>\n    </tr>\n    <tr>\n      <th>16</th>\n      <td>agency_fee</td>\n      <td>0.233358</td>\n    </tr>\n    <tr>\n      <th>17</th>\n      <td>percentage</td>\n      <td>7.379215</td>\n    </tr>\n    <tr>\n      <th>18</th>\n      <td>net_cost</td>\n      <td>0.233358</td>\n    </tr>\n    <tr>\n      <th>19</th>\n      <td>type</td>\n      <td>0.240909</td>\n    </tr>\n    <tr>\n      <th>20</th>\n      <td>width</td>\n      <td>0.242088</td>\n    </tr>\n    <tr>\n      <th>21</th>\n      <td>height</td>\n      <td>0.241381</td>\n    </tr>\n    <tr>\n      <th>22</th>\n      <td>creative_id</td>\n      <td>0.240909</td>\n    </tr>\n    <tr>\n      <th>23</th>\n      <td>auction_id</td>\n      <td>0.240909</td>\n    </tr>\n    <tr>\n      <th>24</th>\n      <td>browser_ts</td>\n      <td>0.240909</td>\n    </tr>\n    <tr>\n      <th>25</th>\n      <td>game_key</td>\n      <td>0.240909</td>\n    </tr>\n    <tr>\n      <th>26</th>\n      <td>geo_country</td>\n      <td>0.242088</td>\n    </tr>\n    <tr>\n      <th>27</th>\n      <td>site_name</td>\n      <td>0.240909</td>\n    </tr>\n    <tr>\n      <th>28</th>\n      <td>platform_os</td>\n      <td>0.240909</td>\n    </tr>\n    <tr>\n      <th>29</th>\n      <td>device_type</td>\n      <td>0.242324</td>\n    </tr>\n    <tr>\n      <th>30</th>\n      <td>browser</td>\n      <td>0.244920</td>\n    </tr>\n  </tbody>\n</table>\n</div>"
     },
     "execution_count": 18,
     "metadata": {},
     "output_type": "execute_result"
    }
   ],
   "source": [
    "# get the percentage missing by column of the cleaned df\n",
    "data_cleaner.missing_percentage(clean_df)"
   ],
   "metadata": {
    "collapsed": false,
    "pycharm": {
     "name": "#%%\n"
    }
   }
  },
  {
   "cell_type": "code",
   "execution_count": 32,
   "outputs": [],
   "source": [
    "# null values for a dataframe\n",
    "clean_df = data_cleaner.remove_nulls(clean_df)"
   ],
   "metadata": {
    "collapsed": false,
    "pycharm": {
     "name": "#%%\n"
    }
   }
  },
  {
   "cell_type": "code",
   "execution_count": 33,
   "outputs": [
    {
     "data": {
      "text/plain": "  campaign_id                                campaign_name   submission_date  \\\n0     l5kk3r3  FACEBOOK_CONVERSATIONAL COMMERCE_2020_09_TH  18/06/2021 03:18   \n1     l5kk3r3  FACEBOOK_CONVERSATIONAL COMMERCE_2020_09_TH  18/06/2021 03:18   \n2     l5kk3r3  FACEBOOK_CONVERSATIONAL COMMERCE_2020_09_TH  18/06/2021 03:18   \n3     l5kk3r3  FACEBOOK_CONVERSATIONAL COMMERCE_2020_09_TH  18/06/2021 03:18   \n4     l5kk3r3  FACEBOOK_CONVERSATIONAL COMMERCE_2020_09_TH  18/06/2021 03:18   \n\n                                         description  \\\n0  Storyboard Due Date :\\r\\nAs determined by camp...   \n1  Storyboard Due Date :\\r\\nAs determined by camp...   \n2  Storyboard Due Date :\\r\\nAs determined by camp...   \n3  Storyboard Due Date :\\r\\nAs determined by camp...   \n4  Storyboard Due Date :\\r\\nAs determined by camp...   \n\n                                 campaign_objectives             kpis  \\\n0  Brand Awareness\\nProduct Awareness\\nMessage Re...  Engagement Rate   \n1  Brand Awareness\\nProduct Awareness\\nMessage Re...  Engagement Rate   \n2  Brand Awareness\\nProduct Awareness\\nMessage Re...  Engagement Rate   \n3  Brand Awareness\\nProduct Awareness\\nMessage Re...  Engagement Rate   \n4  Brand Awareness\\nProduct Awareness\\nMessage Re...  Engagement Rate   \n\n                                          placements  start_date    end_date  \\\n0  320x480 (Fullscreen mobile / interstitial)\\n30...  12/07/2021  08/09/2021   \n1  320x480 (Fullscreen mobile / interstitial)\\n30...  12/07/2021  08/09/2021   \n2  320x480 (Fullscreen mobile / interstitial)\\n30...  12/07/2021  08/09/2021   \n3  320x480 (Fullscreen mobile / interstitial)\\n30...  12/07/2021  08/09/2021   \n4  320x480 (Fullscreen mobile / interstitial)\\n30...  12/07/2021  08/09/2021   \n\n  serving_locations  ... height creative_id  \\\n0         Singapore  ...      %    x83byc8a   \n1         Singapore  ...      %    x83byc8a   \n2         Singapore  ...      %    tf2htrrm   \n3         Singapore  ...      %    x83byc8a   \n4         Singapore  ...      %    x83byc8a   \n\n                             auction_id                browser_ts  \\\n0  fd74243f-6606-4830-a0ef-dd12f66ec6f5  2021-01-01T19:55:20.291Z   \n1  fd74243f-6606-4830-a0ef-dd12f66ec6f5  2021-01-01T19:55:20.298Z   \n2  b3af878b-fd1a-4c6f-91a2-4e3670d2fda5  2021-01-05T00:21:39.693Z   \n3  b7c22590-e784-43cf-874d-a661ad99601f  2021-01-06T09:30:44.188Z   \n4  b7c22590-e784-43cf-874d-a661ad99601f  2021-01-06T09:30:45.047Z   \n\n                                            game_key  geo_country  \\\n0  adunit-facebook-conversational-commerce-phase-...     Thailand   \n1  adunit-facebook-conversational-commerce-phase-...     Thailand   \n2  adunit-facebook-conversational-commerce-phase-...     Thailand   \n3  adunit-facebook-conversational-commerce-phase-...     Thailand   \n4  adunit-facebook-conversational-commerce-phase-...     Thailand   \n\n            site_name  platform_os  device_type                     browser  \n0  www.wuxiaworld.com            6       Mobile                      Chrome  \n1  www.wuxiaworld.com            6       Mobile  Mobile Safari UI/WKWebView  \n2  www.prachachat.net            6       Mobile               Chrome Mobile  \n3  www.prachachat.net            6       Mobile               Mobile Safari  \n4  www.prachachat.net            6       Mobile                      Chrome  \n\n[5 rows x 31 columns]",
      "text/html": "<div>\n<style scoped>\n    .dataframe tbody tr th:only-of-type {\n        vertical-align: middle;\n    }\n\n    .dataframe tbody tr th {\n        vertical-align: top;\n    }\n\n    .dataframe thead th {\n        text-align: right;\n    }\n</style>\n<table border=\"1\" class=\"dataframe\">\n  <thead>\n    <tr style=\"text-align: right;\">\n      <th></th>\n      <th>campaign_id</th>\n      <th>campaign_name</th>\n      <th>submission_date</th>\n      <th>description</th>\n      <th>campaign_objectives</th>\n      <th>kpis</th>\n      <th>placements</th>\n      <th>start_date</th>\n      <th>end_date</th>\n      <th>serving_locations</th>\n      <th>...</th>\n      <th>height</th>\n      <th>creative_id</th>\n      <th>auction_id</th>\n      <th>browser_ts</th>\n      <th>game_key</th>\n      <th>geo_country</th>\n      <th>site_name</th>\n      <th>platform_os</th>\n      <th>device_type</th>\n      <th>browser</th>\n    </tr>\n  </thead>\n  <tbody>\n    <tr>\n      <th>0</th>\n      <td>l5kk3r3</td>\n      <td>FACEBOOK_CONVERSATIONAL COMMERCE_2020_09_TH</td>\n      <td>18/06/2021 03:18</td>\n      <td>Storyboard Due Date :\\r\\nAs determined by camp...</td>\n      <td>Brand Awareness\\nProduct Awareness\\nMessage Re...</td>\n      <td>Engagement Rate</td>\n      <td>320x480 (Fullscreen mobile / interstitial)\\n30...</td>\n      <td>12/07/2021</td>\n      <td>08/09/2021</td>\n      <td>Singapore</td>\n      <td>...</td>\n      <td>%</td>\n      <td>x83byc8a</td>\n      <td>fd74243f-6606-4830-a0ef-dd12f66ec6f5</td>\n      <td>2021-01-01T19:55:20.291Z</td>\n      <td>adunit-facebook-conversational-commerce-phase-...</td>\n      <td>Thailand</td>\n      <td>www.wuxiaworld.com</td>\n      <td>6</td>\n      <td>Mobile</td>\n      <td>Chrome</td>\n    </tr>\n    <tr>\n      <th>1</th>\n      <td>l5kk3r3</td>\n      <td>FACEBOOK_CONVERSATIONAL COMMERCE_2020_09_TH</td>\n      <td>18/06/2021 03:18</td>\n      <td>Storyboard Due Date :\\r\\nAs determined by camp...</td>\n      <td>Brand Awareness\\nProduct Awareness\\nMessage Re...</td>\n      <td>Engagement Rate</td>\n      <td>320x480 (Fullscreen mobile / interstitial)\\n30...</td>\n      <td>12/07/2021</td>\n      <td>08/09/2021</td>\n      <td>Singapore</td>\n      <td>...</td>\n      <td>%</td>\n      <td>x83byc8a</td>\n      <td>fd74243f-6606-4830-a0ef-dd12f66ec6f5</td>\n      <td>2021-01-01T19:55:20.298Z</td>\n      <td>adunit-facebook-conversational-commerce-phase-...</td>\n      <td>Thailand</td>\n      <td>www.wuxiaworld.com</td>\n      <td>6</td>\n      <td>Mobile</td>\n      <td>Mobile Safari UI/WKWebView</td>\n    </tr>\n    <tr>\n      <th>2</th>\n      <td>l5kk3r3</td>\n      <td>FACEBOOK_CONVERSATIONAL COMMERCE_2020_09_TH</td>\n      <td>18/06/2021 03:18</td>\n      <td>Storyboard Due Date :\\r\\nAs determined by camp...</td>\n      <td>Brand Awareness\\nProduct Awareness\\nMessage Re...</td>\n      <td>Engagement Rate</td>\n      <td>320x480 (Fullscreen mobile / interstitial)\\n30...</td>\n      <td>12/07/2021</td>\n      <td>08/09/2021</td>\n      <td>Singapore</td>\n      <td>...</td>\n      <td>%</td>\n      <td>tf2htrrm</td>\n      <td>b3af878b-fd1a-4c6f-91a2-4e3670d2fda5</td>\n      <td>2021-01-05T00:21:39.693Z</td>\n      <td>adunit-facebook-conversational-commerce-phase-...</td>\n      <td>Thailand</td>\n      <td>www.prachachat.net</td>\n      <td>6</td>\n      <td>Mobile</td>\n      <td>Chrome Mobile</td>\n    </tr>\n    <tr>\n      <th>3</th>\n      <td>l5kk3r3</td>\n      <td>FACEBOOK_CONVERSATIONAL COMMERCE_2020_09_TH</td>\n      <td>18/06/2021 03:18</td>\n      <td>Storyboard Due Date :\\r\\nAs determined by camp...</td>\n      <td>Brand Awareness\\nProduct Awareness\\nMessage Re...</td>\n      <td>Engagement Rate</td>\n      <td>320x480 (Fullscreen mobile / interstitial)\\n30...</td>\n      <td>12/07/2021</td>\n      <td>08/09/2021</td>\n      <td>Singapore</td>\n      <td>...</td>\n      <td>%</td>\n      <td>x83byc8a</td>\n      <td>b7c22590-e784-43cf-874d-a661ad99601f</td>\n      <td>2021-01-06T09:30:44.188Z</td>\n      <td>adunit-facebook-conversational-commerce-phase-...</td>\n      <td>Thailand</td>\n      <td>www.prachachat.net</td>\n      <td>6</td>\n      <td>Mobile</td>\n      <td>Mobile Safari</td>\n    </tr>\n    <tr>\n      <th>4</th>\n      <td>l5kk3r3</td>\n      <td>FACEBOOK_CONVERSATIONAL COMMERCE_2020_09_TH</td>\n      <td>18/06/2021 03:18</td>\n      <td>Storyboard Due Date :\\r\\nAs determined by camp...</td>\n      <td>Brand Awareness\\nProduct Awareness\\nMessage Re...</td>\n      <td>Engagement Rate</td>\n      <td>320x480 (Fullscreen mobile / interstitial)\\n30...</td>\n      <td>12/07/2021</td>\n      <td>08/09/2021</td>\n      <td>Singapore</td>\n      <td>...</td>\n      <td>%</td>\n      <td>x83byc8a</td>\n      <td>b7c22590-e784-43cf-874d-a661ad99601f</td>\n      <td>2021-01-06T09:30:45.047Z</td>\n      <td>adunit-facebook-conversational-commerce-phase-...</td>\n      <td>Thailand</td>\n      <td>www.prachachat.net</td>\n      <td>6</td>\n      <td>Mobile</td>\n      <td>Chrome</td>\n    </tr>\n  </tbody>\n</table>\n<p>5 rows × 31 columns</p>\n</div>"
     },
     "execution_count": 33,
     "metadata": {},
     "output_type": "execute_result"
    }
   ],
   "source": [
    "clean_df.head()"
   ],
   "metadata": {
    "collapsed": false,
    "pycharm": {
     "name": "#%%\n"
    }
   }
  },
  {
   "cell_type": "code",
   "execution_count": 34,
   "outputs": [
    {
     "data": {
      "text/plain": "                           column_name  percent_missing\n0                          campaign_id              0.0\n1                        campaign_name              0.0\n2                      submission_date              0.0\n3                          description              0.0\n4                  campaign_objectives              0.0\n5                                 kpis              0.0\n6                           placements              0.0\n7                           start_date              0.0\n8                             end_date              0.0\n9                    serving_locations              0.0\n10  black_white_audience_list_included              0.0\n11                         cost_centre              0.0\n12                            currency              0.0\n13                            buy_rate              0.0\n14                       volume_agreed              0.0\n15                          gross_cost              0.0\n16                          agency_fee              0.0\n17                          percentage              0.0\n18                            net_cost              0.0\n19                                type              0.0\n20                               width              0.0\n21                              height              0.0\n22                         creative_id              0.0\n23                          auction_id              0.0\n24                          browser_ts              0.0\n25                            game_key              0.0\n26                         geo_country              0.0\n27                           site_name              0.0\n28                         platform_os              0.0\n29                         device_type              0.0\n30                             browser              0.0",
      "text/html": "<div>\n<style scoped>\n    .dataframe tbody tr th:only-of-type {\n        vertical-align: middle;\n    }\n\n    .dataframe tbody tr th {\n        vertical-align: top;\n    }\n\n    .dataframe thead th {\n        text-align: right;\n    }\n</style>\n<table border=\"1\" class=\"dataframe\">\n  <thead>\n    <tr style=\"text-align: right;\">\n      <th></th>\n      <th>column_name</th>\n      <th>percent_missing</th>\n    </tr>\n  </thead>\n  <tbody>\n    <tr>\n      <th>0</th>\n      <td>campaign_id</td>\n      <td>0.0</td>\n    </tr>\n    <tr>\n      <th>1</th>\n      <td>campaign_name</td>\n      <td>0.0</td>\n    </tr>\n    <tr>\n      <th>2</th>\n      <td>submission_date</td>\n      <td>0.0</td>\n    </tr>\n    <tr>\n      <th>3</th>\n      <td>description</td>\n      <td>0.0</td>\n    </tr>\n    <tr>\n      <th>4</th>\n      <td>campaign_objectives</td>\n      <td>0.0</td>\n    </tr>\n    <tr>\n      <th>5</th>\n      <td>kpis</td>\n      <td>0.0</td>\n    </tr>\n    <tr>\n      <th>6</th>\n      <td>placements</td>\n      <td>0.0</td>\n    </tr>\n    <tr>\n      <th>7</th>\n      <td>start_date</td>\n      <td>0.0</td>\n    </tr>\n    <tr>\n      <th>8</th>\n      <td>end_date</td>\n      <td>0.0</td>\n    </tr>\n    <tr>\n      <th>9</th>\n      <td>serving_locations</td>\n      <td>0.0</td>\n    </tr>\n    <tr>\n      <th>10</th>\n      <td>black_white_audience_list_included</td>\n      <td>0.0</td>\n    </tr>\n    <tr>\n      <th>11</th>\n      <td>cost_centre</td>\n      <td>0.0</td>\n    </tr>\n    <tr>\n      <th>12</th>\n      <td>currency</td>\n      <td>0.0</td>\n    </tr>\n    <tr>\n      <th>13</th>\n      <td>buy_rate</td>\n      <td>0.0</td>\n    </tr>\n    <tr>\n      <th>14</th>\n      <td>volume_agreed</td>\n      <td>0.0</td>\n    </tr>\n    <tr>\n      <th>15</th>\n      <td>gross_cost</td>\n      <td>0.0</td>\n    </tr>\n    <tr>\n      <th>16</th>\n      <td>agency_fee</td>\n      <td>0.0</td>\n    </tr>\n    <tr>\n      <th>17</th>\n      <td>percentage</td>\n      <td>0.0</td>\n    </tr>\n    <tr>\n      <th>18</th>\n      <td>net_cost</td>\n      <td>0.0</td>\n    </tr>\n    <tr>\n      <th>19</th>\n      <td>type</td>\n      <td>0.0</td>\n    </tr>\n    <tr>\n      <th>20</th>\n      <td>width</td>\n      <td>0.0</td>\n    </tr>\n    <tr>\n      <th>21</th>\n      <td>height</td>\n      <td>0.0</td>\n    </tr>\n    <tr>\n      <th>22</th>\n      <td>creative_id</td>\n      <td>0.0</td>\n    </tr>\n    <tr>\n      <th>23</th>\n      <td>auction_id</td>\n      <td>0.0</td>\n    </tr>\n    <tr>\n      <th>24</th>\n      <td>browser_ts</td>\n      <td>0.0</td>\n    </tr>\n    <tr>\n      <th>25</th>\n      <td>game_key</td>\n      <td>0.0</td>\n    </tr>\n    <tr>\n      <th>26</th>\n      <td>geo_country</td>\n      <td>0.0</td>\n    </tr>\n    <tr>\n      <th>27</th>\n      <td>site_name</td>\n      <td>0.0</td>\n    </tr>\n    <tr>\n      <th>28</th>\n      <td>platform_os</td>\n      <td>0.0</td>\n    </tr>\n    <tr>\n      <th>29</th>\n      <td>device_type</td>\n      <td>0.0</td>\n    </tr>\n    <tr>\n      <th>30</th>\n      <td>browser</td>\n      <td>0.0</td>\n    </tr>\n  </tbody>\n</table>\n</div>"
     },
     "execution_count": 34,
     "metadata": {},
     "output_type": "execute_result"
    }
   ],
   "source": [
    "# get the percentage missing by column of the cleaned df\n",
    "data_cleaner.missing_percentage(clean_df)"
   ],
   "metadata": {
    "collapsed": false,
    "pycharm": {
     "name": "#%%\n"
    }
   }
  },
  {
   "cell_type": "markdown",
   "source": [
    "### Feature Extraction"
   ],
   "metadata": {
    "collapsed": false,
    "pycharm": {
     "name": "#%% md\n"
    }
   }
  },
  {
   "cell_type": "code",
   "execution_count": null,
   "outputs": [],
   "source": [],
   "metadata": {
    "collapsed": false,
    "pycharm": {
     "name": "#%%\n"
    }
   }
  }
 ],
 "metadata": {
  "kernelspec": {
   "display_name": "Python 3",
   "language": "python",
   "name": "python3"
  },
  "language_info": {
   "codemirror_mode": {
    "name": "ipython",
    "version": 2
   },
   "file_extension": ".py",
   "mimetype": "text/x-python",
   "name": "python",
   "nbconvert_exporter": "python",
   "pygments_lexer": "ipython2",
   "version": "2.7.6"
  }
 },
 "nbformat": 4,
 "nbformat_minor": 0
}